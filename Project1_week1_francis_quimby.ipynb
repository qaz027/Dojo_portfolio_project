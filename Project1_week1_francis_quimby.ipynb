{
  "nbformat": 4,
  "nbformat_minor": 0,
  "metadata": {
    "colab": {
      "name": "Project1_week1_francis_quimby.ipynb",
      "provenance": [],
      "authorship_tag": "ABX9TyMPeb3W+fTO4o9ZtaoPCSNd",
      "include_colab_link": true
    },
    "kernelspec": {
      "name": "python3",
      "display_name": "Python 3"
    },
    "language_info": {
      "name": "python"
    }
  },
  "cells": [
    {
      "cell_type": "markdown",
      "metadata": {
        "id": "view-in-github",
        "colab_type": "text"
      },
      "source": [
        "<a href=\"https://colab.research.google.com/github/qaz027/Dojo_portfolio_project/blob/main/Project1_week1_francis_quimby.ipynb\" target=\"_parent\"><img src=\"https://colab.research.google.com/assets/colab-badge.svg\" alt=\"Open In Colab\"/></a>"
      ]
    },
    {
      "cell_type": "code",
      "metadata": {
        "colab": {
          "base_uri": "https://localhost:8080/"
        },
        "id": "bHFuO9YDSanb",
        "outputId": "cba72b2a-d9c3-4fac-b886-b0bdbe1242cc"
      },
      "source": [
        "import pandas as pd\n",
        "infile = '/bostonHousing1978.csv'\n",
        "boston_housing = pd.read_csv(infile)\n",
        "print(boston_housing.head())"
      ],
      "execution_count": 1,
      "outputs": [
        {
          "output_type": "stream",
          "text": [
            "      RM  LSTAT  PTRATIO  target\n",
            "0  6.575   4.98     15.3    24.0\n",
            "1  6.421   9.14     17.8    21.6\n",
            "2  7.185   4.03     17.8    34.7\n",
            "3  6.998   2.94     18.7    33.4\n",
            "4  7.147   5.33     18.7    36.2\n"
          ],
          "name": "stdout"
        }
      ]
    }
  ]
}