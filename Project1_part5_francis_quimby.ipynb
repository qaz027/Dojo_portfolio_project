{
  "nbformat": 4,
  "nbformat_minor": 0,
  "metadata": {
    "colab": {
      "name": "Project1_part5_francis_quimby.ipynb",
      "provenance": [],
      "authorship_tag": "ABX9TyOFhFIsTHWAEWuz8S/dKNC9",
      "include_colab_link": true
    },
    "kernelspec": {
      "name": "python3",
      "display_name": "Python 3"
    },
    "language_info": {
      "name": "python"
    }
  },
  "cells": [
    {
      "cell_type": "markdown",
      "metadata": {
        "id": "view-in-github",
        "colab_type": "text"
      },
      "source": [
        "<a href=\"https://colab.research.google.com/github/qaz027/Dojo_portfolio_project/blob/main/Project1_part5_francis_quimby.ipynb\" target=\"_parent\"><img src=\"https://colab.research.google.com/assets/colab-badge.svg\" alt=\"Open In Colab\"/></a>"
      ]
    },
    {
      "cell_type": "code",
      "metadata": {
        "colab": {
          "base_uri": "https://localhost:8080/"
        },
        "id": "20qI4HUzcaKh",
        "outputId": "cd61767e-bbe6-4f10-ab40-2b77dfcd6aa2"
      },
      "source": [
        "from google.colab import drive\n",
        "drive.mount('/content/drive')"
      ],
      "execution_count": 1,
      "outputs": [
        {
          "output_type": "stream",
          "text": [
            "Mounted at /content/drive\n"
          ],
          "name": "stdout"
        }
      ]
    },
    {
      "cell_type": "markdown",
      "metadata": {
        "id": "fgLBXmHAdMfa"
      },
      "source": [
        "    Use the data you have cleaned in previous weeks. \n",
        "    Spend time transforming your categorical variables into numbers and use dummy encoding where appropriate.\n",
        "        Here are some resources to use when dealing with categorical variables:\n",
        "            Dealing with categorical features in machine learning\n",
        "            Categorical Data\n",
        "            Here’s All you Need to Know About Encoding Categorical Data (with Python code)\n",
        "\n",
        "    Assign the \"Item_Outlet_Sales\" column as your target and the rest of the variables as your features matrix.  \n",
        "    Be sure to train test split your data set!\n",
        "    Build a linear regression model.\n",
        "    Evaluate your test set results using r2.\n",
        "    Evaluate your test set results using RMSE\n",
        "    Which features are most associated with higher predicted sales?"
      ]
    },
    {
      "cell_type": "code",
      "metadata": {
        "colab": {
          "base_uri": "https://localhost:8080/"
        },
        "id": "5_XSgI2scgY2",
        "outputId": "5be06407-0e25-4410-9c05-248d989aa0e1"
      },
      "source": [
        "import pandas as pd\n",
        "\n",
        "infile ='/content/drive/MyDrive/sales_predictions.csv'\n",
        "sales_pred = pd.read_csv(infile)\n",
        "\n",
        "#clean and update values \n",
        "sales_pred.sort_values(by=['Item_Identifier','Item_Weight'], inplace=True)\n",
        "sales_pred[['Item_Weight']] = sales_pred['Item_Weight'].fillna(method='pad') #backfill missing item weights\n",
        "outlet_sz_miss = sales_pred[\"Outlet_Size\"].isna()\n",
        "\n",
        "sales_pred.sort_values(by=['Outlet_Type','Outlet_Location_Type','Outlet_Size','Outlet_Identifier'], inplace = True)\n",
        "sales_pred[['Outlet_Size']]=sales_pred['Outlet_Size'].fillna(method='pad')\n",
        "sales_pred.sort_index(inplace= True)\n",
        "sales_pred.groupby([\"Outlet_Type\",\"Outlet_Location_Type\",\"Outlet_Identifier\"])[\"Outlet_Size\"].value_counts(dropna=False)\n",
        "sales_pred['Item_Fat_Content'].replace({'LF':'Low Fat', 'lf':'Low Fat', 'low fat':'Low Fat', 'reg':'Regular'}, inplace=True)\n",
        "sales_pred['Item_Fat_Content'].unique()\n",
        "\n",
        "print(sales_pred.head())\n"
      ],
      "execution_count": 2,
      "outputs": [
        {
          "output_type": "stream",
          "text": [
            "  Item_Identifier  Item_Weight  ...        Outlet_Type  Item_Outlet_Sales\n",
            "0           FDA15         9.30  ...  Supermarket Type1          3735.1380\n",
            "1           DRC01         5.92  ...  Supermarket Type2           443.4228\n",
            "2           FDN15        17.50  ...  Supermarket Type1          2097.2700\n",
            "3           FDX07        19.20  ...      Grocery Store           732.3800\n",
            "4           NCD19         8.93  ...  Supermarket Type1           994.7052\n",
            "\n",
            "[5 rows x 12 columns]\n"
          ],
          "name": "stdout"
        }
      ]
    },
    {
      "cell_type": "code",
      "metadata": {
        "colab": {
          "base_uri": "https://localhost:8080/"
        },
        "id": "b-iUltnkeDUw",
        "outputId": "51f011cd-c67f-4f65-9548-ede5c9103efd"
      },
      "source": [
        "sales_pred.info()"
      ],
      "execution_count": 6,
      "outputs": [
        {
          "output_type": "stream",
          "text": [
            "<class 'pandas.core.frame.DataFrame'>\n",
            "Int64Index: 8523 entries, 0 to 8522\n",
            "Data columns (total 12 columns):\n",
            " #   Column                     Non-Null Count  Dtype  \n",
            "---  ------                     --------------  -----  \n",
            " 0   Item_Identifier            8523 non-null   object \n",
            " 1   Item_Weight                8523 non-null   float64\n",
            " 2   Item_Fat_Content           8523 non-null   object \n",
            " 3   Item_Visibility            8523 non-null   float64\n",
            " 4   Item_Type                  8523 non-null   object \n",
            " 5   Item_MRP                   8523 non-null   float64\n",
            " 6   Outlet_Identifier          8523 non-null   object \n",
            " 7   Outlet_Establishment_Year  8523 non-null   int64  \n",
            " 8   Outlet_Size                8523 non-null   object \n",
            " 9   Outlet_Location_Type       8523 non-null   object \n",
            " 10  Outlet_Type                8523 non-null   object \n",
            " 11  Item_Outlet_Sales          8523 non-null   float64\n",
            "dtypes: float64(4), int64(1), object(7)\n",
            "memory usage: 865.6+ KB\n"
          ],
          "name": "stdout"
        }
      ]
    },
    {
      "cell_type": "code",
      "metadata": {
        "colab": {
          "base_uri": "https://localhost:8080/"
        },
        "id": "yyxO7BS2d1OR",
        "outputId": "0bed9930-2e6f-4c36-c599-b45fe5e8c17c"
      },
      "source": [
        "sales_pred['Item_Identifier'].unique().shape"
      ],
      "execution_count": 5,
      "outputs": [
        {
          "output_type": "execute_result",
          "data": {
            "text/plain": [
              "(1559,)"
            ]
          },
          "metadata": {},
          "execution_count": 5
        }
      ]
    },
    {
      "cell_type": "code",
      "metadata": {
        "colab": {
          "base_uri": "https://localhost:8080/"
        },
        "id": "AbQzzxJqeAwd",
        "outputId": "78492e1d-b826-49a1-d85f-1c636c8ebb87"
      },
      "source": [
        "sales_pred['Outlet_Identifier'].unique()"
      ],
      "execution_count": 11,
      "outputs": [
        {
          "output_type": "execute_result",
          "data": {
            "text/plain": [
              "array(['OUT049', 'OUT018', 'OUT010', 'OUT013', 'OUT027', 'OUT045',\n",
              "       'OUT017', 'OUT046', 'OUT035', 'OUT019'], dtype=object)"
            ]
          },
          "metadata": {},
          "execution_count": 11
        }
      ]
    },
    {
      "cell_type": "code",
      "metadata": {
        "colab": {
          "base_uri": "https://localhost:8080/"
        },
        "id": "IYwZ276VdegZ",
        "outputId": "5871aabd-d2aa-46c5-816e-dc83db07265b"
      },
      "source": [
        "#transform Outlet ID, Outlet Type, Outlet location type, Item ID, Item Fat Content, Outlet_size\n",
        "#I think Item Weight and Item ID will correlate highly - may be able to simply use weight in the regression?\n",
        "\n",
        "sales_pred = pd.get_dummies(sales_pred, columns = ['Item_Fat_Content','Item_Type','Outlet_Identifier','Outlet_Size','Outlet_Location_Type','Outlet_Type'], drop_first = True)\n",
        "print(sales_pred.info())"
      ],
      "execution_count": 13,
      "outputs": [
        {
          "output_type": "stream",
          "text": [
            "<class 'pandas.core.frame.DataFrame'>\n",
            "Int64Index: 8523 entries, 0 to 8522\n",
            "Data columns (total 38 columns):\n",
            " #   Column                           Non-Null Count  Dtype  \n",
            "---  ------                           --------------  -----  \n",
            " 0   Item_Identifier                  8523 non-null   object \n",
            " 1   Item_Weight                      8523 non-null   float64\n",
            " 2   Item_Visibility                  8523 non-null   float64\n",
            " 3   Item_MRP                         8523 non-null   float64\n",
            " 4   Outlet_Establishment_Year        8523 non-null   int64  \n",
            " 5   Item_Outlet_Sales                8523 non-null   float64\n",
            " 6   Item_Fat_Content_Regular         8523 non-null   uint8  \n",
            " 7   Item_Type_Breads                 8523 non-null   uint8  \n",
            " 8   Item_Type_Breakfast              8523 non-null   uint8  \n",
            " 9   Item_Type_Canned                 8523 non-null   uint8  \n",
            " 10  Item_Type_Dairy                  8523 non-null   uint8  \n",
            " 11  Item_Type_Frozen Foods           8523 non-null   uint8  \n",
            " 12  Item_Type_Fruits and Vegetables  8523 non-null   uint8  \n",
            " 13  Item_Type_Hard Drinks            8523 non-null   uint8  \n",
            " 14  Item_Type_Health and Hygiene     8523 non-null   uint8  \n",
            " 15  Item_Type_Household              8523 non-null   uint8  \n",
            " 16  Item_Type_Meat                   8523 non-null   uint8  \n",
            " 17  Item_Type_Others                 8523 non-null   uint8  \n",
            " 18  Item_Type_Seafood                8523 non-null   uint8  \n",
            " 19  Item_Type_Snack Foods            8523 non-null   uint8  \n",
            " 20  Item_Type_Soft Drinks            8523 non-null   uint8  \n",
            " 21  Item_Type_Starchy Foods          8523 non-null   uint8  \n",
            " 22  Outlet_Identifier_OUT013         8523 non-null   uint8  \n",
            " 23  Outlet_Identifier_OUT017         8523 non-null   uint8  \n",
            " 24  Outlet_Identifier_OUT018         8523 non-null   uint8  \n",
            " 25  Outlet_Identifier_OUT019         8523 non-null   uint8  \n",
            " 26  Outlet_Identifier_OUT027         8523 non-null   uint8  \n",
            " 27  Outlet_Identifier_OUT035         8523 non-null   uint8  \n",
            " 28  Outlet_Identifier_OUT045         8523 non-null   uint8  \n",
            " 29  Outlet_Identifier_OUT046         8523 non-null   uint8  \n",
            " 30  Outlet_Identifier_OUT049         8523 non-null   uint8  \n",
            " 31  Outlet_Size_Medium               8523 non-null   uint8  \n",
            " 32  Outlet_Size_Small                8523 non-null   uint8  \n",
            " 33  Outlet_Location_Type_Tier 2      8523 non-null   uint8  \n",
            " 34  Outlet_Location_Type_Tier 3      8523 non-null   uint8  \n",
            " 35  Outlet_Type_Supermarket Type1    8523 non-null   uint8  \n",
            " 36  Outlet_Type_Supermarket Type2    8523 non-null   uint8  \n",
            " 37  Outlet_Type_Supermarket Type3    8523 non-null   uint8  \n",
            "dtypes: float64(4), int64(1), object(1), uint8(32)\n",
            "memory usage: 732.4+ KB\n",
            "None\n"
          ],
          "name": "stdout"
        }
      ]
    },
    {
      "cell_type": "code",
      "metadata": {
        "colab": {
          "base_uri": "https://localhost:8080/"
        },
        "id": "9gmxLF2jfwa7",
        "outputId": "9f705b41-75b1-41b9-ad4e-1d5cfdf7a1be"
      },
      "source": [
        "from sklearn.model_selection import train_test_split\n",
        "y = sales_pred['Item_Outlet_Sales']\n",
        "X = sales_pred.drop(columns = ['Item_Identifier','Item_Outlet_Sales'])\n",
        "# Train test split\n",
        "X_train, X_test, y_train, y_test = train_test_split(X, y, random_state=42)\n",
        "print(X_train.shape)\n",
        "print(X_test.shape)\n",
        "print(y_train.shape)\n",
        "print(y_test.shape)"
      ],
      "execution_count": 15,
      "outputs": [
        {
          "output_type": "stream",
          "text": [
            "(6392, 36)\n",
            "(2131, 36)\n",
            "(6392,)\n",
            "(2131,)\n"
          ],
          "name": "stdout"
        }
      ]
    },
    {
      "cell_type": "code",
      "metadata": {
        "id": "uOAVzJFegV_0"
      },
      "source": [
        "#Instatiate and Fit model\n",
        "from sklearn.linear_model import LinearRegression\n",
        "reg = LinearRegression()\n",
        "reg.fit(X_train,y_train)\n",
        "# or to predict all values on the training data\n",
        "train_preds = reg.predict(X_train)\n",
        "# predict the values in the test set\n",
        "test_preds = reg.predict(X_test)"
      ],
      "execution_count": 16,
      "outputs": []
    },
    {
      "cell_type": "code",
      "metadata": {
        "colab": {
          "base_uri": "https://localhost:8080/"
        },
        "id": "DvaA_oKJgfBy",
        "outputId": "aca1432d-7096-48f4-aa37-ec3dde09a1f0"
      },
      "source": [
        "#Find R^2 (and RMSE for good measure)\n",
        "from sklearn.metrics import mean_squared_error\n",
        "import numpy as np\n",
        "train_score = reg.score(X_train, y_train)\n",
        "test_score = reg.score(X_test, y_test)\n",
        "rmse_train = np.sqrt(mean_squared_error(y_train,reg.predict(X_train)))\n",
        "rmse_test = np.sqrt(mean_squared_error(y_test,reg.predict(X_test)))\n",
        "print('Training RMSE:', rmse_train)\n",
        "print('Testing RMSE:', rmse_test)\n",
        "\n",
        "print(\"R^2 for training set: \", train_score)\n",
        "print(\"R^2 for testing set: \", test_score)"
      ],
      "execution_count": 17,
      "outputs": [
        {
          "output_type": "stream",
          "text": [
            "Training RMSE: 1139.1176305025365\n",
            "Testing RMSE: 1092.830326891238\n",
            "R^2 for training set:  0.5615447211671323\n",
            "R^2 for testing set:  0.5671301359922962\n"
          ],
          "name": "stdout"
        }
      ]
    },
    {
      "cell_type": "code",
      "metadata": {
        "colab": {
          "base_uri": "https://localhost:8080/"
        },
        "id": "TWkvVeK-hPsk",
        "outputId": "60be976b-651b-43d1-bd45-69ebd4b791b6"
      },
      "source": [
        "reg.coef_"
      ],
      "execution_count": 21,
      "outputs": [
        {
          "output_type": "execute_result",
          "data": {
            "text/plain": [
              "array([  -1.29262227, -422.84482258,   15.72101709,  -18.73756951,\n",
              "         62.61660111,  -28.29869384,   45.02508172,   27.77118848,\n",
              "       -106.63579022,   -1.87538169,   45.61273976,   14.34738549,\n",
              "         26.78362717,    5.38544247,  -12.22601532,  -27.05926919,\n",
              "        327.74977527,  -21.90762231,  -39.19608557,   41.76796162,\n",
              "        125.92133547,  298.69082258,  256.7598849 , -504.43347728,\n",
              "        885.99595126,  293.60045789,   63.5692505 ,  671.33475107,\n",
              "       -530.4118529 ,  612.34398326, -738.26531873,  655.86053096,\n",
              "       -292.34995185,  922.7047646 ,  256.7598849 ,  885.99595126])"
            ]
          },
          "metadata": {},
          "execution_count": 21
        }
      ]
    },
    {
      "cell_type": "code",
      "metadata": {
        "colab": {
          "base_uri": "https://localhost:8080/"
        },
        "id": "j3zHtUCCjqda",
        "outputId": "742e8ed0-3e26-446b-eae3-ffa47ac965f9"
      },
      "source": [
        "print(X.columns)"
      ],
      "execution_count": 25,
      "outputs": [
        {
          "output_type": "stream",
          "text": [
            "Index(['Item_Weight', 'Item_Visibility', 'Item_MRP',\n",
            "       'Outlet_Establishment_Year', 'Item_Fat_Content_Regular',\n",
            "       'Item_Type_Breads', 'Item_Type_Breakfast', 'Item_Type_Canned',\n",
            "       'Item_Type_Dairy', 'Item_Type_Frozen Foods',\n",
            "       'Item_Type_Fruits and Vegetables', 'Item_Type_Hard Drinks',\n",
            "       'Item_Type_Health and Hygiene', 'Item_Type_Household', 'Item_Type_Meat',\n",
            "       'Item_Type_Others', 'Item_Type_Seafood', 'Item_Type_Snack Foods',\n",
            "       'Item_Type_Soft Drinks', 'Item_Type_Starchy Foods',\n",
            "       'Outlet_Identifier_OUT013', 'Outlet_Identifier_OUT017',\n",
            "       'Outlet_Identifier_OUT018', 'Outlet_Identifier_OUT019',\n",
            "       'Outlet_Identifier_OUT027', 'Outlet_Identifier_OUT035',\n",
            "       'Outlet_Identifier_OUT045', 'Outlet_Identifier_OUT046',\n",
            "       'Outlet_Identifier_OUT049', 'Outlet_Size_Medium', 'Outlet_Size_Small',\n",
            "       'Outlet_Location_Type_Tier 2', 'Outlet_Location_Type_Tier 3',\n",
            "       'Outlet_Type_Supermarket Type1', 'Outlet_Type_Supermarket Type2',\n",
            "       'Outlet_Type_Supermarket Type3'],\n",
            "      dtype='object')\n"
          ],
          "name": "stdout"
        }
      ]
    },
    {
      "cell_type": "code",
      "metadata": {
        "colab": {
          "base_uri": "https://localhost:8080/"
        },
        "id": "UujN5eLRirnJ",
        "outputId": "04a8d5ed-52e3-4b3b-f896-ba18c2bedb8c"
      },
      "source": [
        "reg.intercept_"
      ],
      "execution_count": 22,
      "outputs": [
        {
          "output_type": "execute_result",
          "data": {
            "text/plain": [
              "36619.37299699216"
            ]
          },
          "metadata": {},
          "execution_count": 22
        }
      ]
    },
    {
      "cell_type": "code",
      "metadata": {
        "colab": {
          "base_uri": "https://localhost:8080/"
        },
        "id": "tpi7MxWYj4-h",
        "outputId": "d11ec047-4415-4634-9c14-b8995d8f876f"
      },
      "source": [
        "reg.coef_\n"
      ],
      "execution_count": 35,
      "outputs": [
        {
          "output_type": "execute_result",
          "data": {
            "text/plain": [
              "array([  -1.29262227, -422.84482258,   15.72101709,  -18.73756951,\n",
              "         62.61660111,  -28.29869384,   45.02508172,   27.77118848,\n",
              "       -106.63579022,   -1.87538169,   45.61273976,   14.34738549,\n",
              "         26.78362717,    5.38544247,  -12.22601532,  -27.05926919,\n",
              "        327.74977527,  -21.90762231,  -39.19608557,   41.76796162,\n",
              "        125.92133547,  298.69082258,  256.7598849 , -504.43347728,\n",
              "        885.99595126,  293.60045789,   63.5692505 ,  671.33475107,\n",
              "       -530.4118529 ,  612.34398326, -738.26531873,  655.86053096,\n",
              "       -292.34995185,  922.7047646 ,  256.7598849 ,  885.99595126])"
            ]
          },
          "metadata": {},
          "execution_count": 35
        }
      ]
    },
    {
      "cell_type": "markdown",
      "metadata": {
        "id": "wHeYmVSpmMn2"
      },
      "source": [
        "       **Variables with coefficients > 0:**\n",
        "       'Item_MRP'\n",
        "       'Item_Fat_Content_Regular'\n",
        "       'Item_Type_Breakfast'\n",
        "       'Item_Type_Canned',\n",
        "       'Item_Type_Fruits and Vegetables'\n",
        "       'Item_Type_Hard Drinks',\n",
        "       'Item_Type_Health and Hygiene'\n",
        "       'Item_Type_Household', \n",
        "       'Item_Type_Seafood'\n",
        "       'Item_Type_Starchy Foods'\n",
        "       'Outlet_Identifier_OUT013', 'Outlet_Identifier_OUT017',\n",
        "       'Outlet_Identifier_OUT018', 'Outlet_Identifier_OUT035',\n",
        "       'Outlet_Identifier_OUT045', 'Outlet_Identifier_OUT046',\n",
        "       'Outlet_Size_Medium','Outlet_Location_Type_Tier 2', \n",
        "       'Outlet_Type_Supermarket Type1', 'Outlet_Type_Supermarket Type2',\n",
        "       'Outlet_Type_Supermarket Type3'"
      ]
    }
  ]
}