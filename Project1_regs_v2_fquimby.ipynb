{
  "nbformat": 4,
  "nbformat_minor": 0,
  "metadata": {
    "colab": {
      "name": "Project1_regs_v2_fquimby.ipynb",
      "provenance": [],
      "authorship_tag": "ABX9TyNElbYWPq6GbOD3cNK2DYxM",
      "include_colab_link": true
    },
    "kernelspec": {
      "name": "python3",
      "display_name": "Python 3"
    },
    "language_info": {
      "name": "python"
    }
  },
  "cells": [
    {
      "cell_type": "markdown",
      "metadata": {
        "id": "view-in-github",
        "colab_type": "text"
      },
      "source": [
        "<a href=\"https://colab.research.google.com/github/qaz027/Dojo_portfolio_project/blob/main/Project1_regs_v2_fquimby.ipynb\" target=\"_parent\"><img src=\"https://colab.research.google.com/assets/colab-badge.svg\" alt=\"Open In Colab\"/></a>"
      ]
    },
    {
      "cell_type": "code",
      "metadata": {
        "colab": {
          "base_uri": "https://localhost:8080/"
        },
        "id": "20qI4HUzcaKh",
        "outputId": "866d52cc-7505-4362-eec0-67f5007e1ada"
      },
      "source": [
        "from google.colab import drive\n",
        "drive.mount('/content/drive')"
      ],
      "execution_count": 1,
      "outputs": [
        {
          "output_type": "stream",
          "name": "stdout",
          "text": [
            "Mounted at /content/drive\n"
          ]
        }
      ]
    },
    {
      "cell_type": "markdown",
      "metadata": {
        "id": "fgLBXmHAdMfa"
      },
      "source": [
        "    Use the data you have cleaned in previous weeks. \n",
        "    Spend time transforming your categorical variables into numbers and use dummy encoding where appropriate.\n",
        "        Here are some resources to use when dealing with categorical variables:\n",
        "            Dealing with categorical features in machine learning\n",
        "            Categorical Data\n",
        "            Here’s All you Need to Know About Encoding Categorical Data (with Python code)\n",
        "\n",
        "    Assign the \"Item_Outlet_Sales\" column as your target and the rest of the variables as your features matrix.  \n",
        "    Be sure to train test split your data set!\n",
        "    Build a linear regression model.\n",
        "    Evaluate your test set results using r2.\n",
        "    Evaluate your test set results using RMSE\n",
        "    Which features are most associated with higher predicted sales?"
      ]
    },
    {
      "cell_type": "markdown",
      "metadata": {
        "id": "GuO7VLNHZkGX"
      },
      "source": [
        "# Data Prep"
      ]
    },
    {
      "cell_type": "code",
      "metadata": {
        "colab": {
          "base_uri": "https://localhost:8080/"
        },
        "id": "5_XSgI2scgY2",
        "outputId": "fdfcb794-be40-47dc-ddd1-0bebfd82bc24"
      },
      "source": [
        "import pandas as pd\n",
        "\n",
        "infile ='/content/drive/MyDrive/Coding/Dojo - Data Science/sales_predictions.csv'\n",
        "sales_pred = pd.read_csv(infile)\n",
        "\n",
        "#clean and update values \n",
        "sales_pred.sort_values(by=['Item_Identifier','Item_Weight'], inplace=True)\n",
        "sales_pred[['Item_Weight']] = sales_pred['Item_Weight'].fillna(method='pad') #backfill missing item weights\n",
        "outlet_sz_miss = sales_pred[\"Outlet_Size\"].isna()\n",
        "\n",
        "sales_pred.sort_values(by=['Outlet_Type','Outlet_Location_Type','Outlet_Size','Outlet_Identifier'], inplace = True)\n",
        "sales_pred[['Outlet_Size']]=sales_pred['Outlet_Size'].fillna(method='pad')\n",
        "sales_pred.sort_index(inplace= True)\n",
        "sales_pred.groupby([\"Outlet_Type\",\"Outlet_Location_Type\",\"Outlet_Identifier\"])[\"Outlet_Size\"].value_counts(dropna=False)\n",
        "sales_pred['Item_Fat_Content'].replace({'LF':'Low Fat', 'lf':'Low Fat', 'low fat':'Low Fat', 'reg':'Regular'}, inplace=True)\n",
        "sales_pred['Item_Fat_Content'].unique()\n",
        "\n",
        "\n"
      ],
      "execution_count": 91,
      "outputs": [
        {
          "output_type": "execute_result",
          "data": {
            "text/plain": [
              "array(['Low Fat', 'Regular'], dtype=object)"
            ]
          },
          "metadata": {},
          "execution_count": 91
        }
      ]
    },
    {
      "cell_type": "code",
      "metadata": {
        "colab": {
          "base_uri": "https://localhost:8080/"
        },
        "id": "-52MXYDuct7G",
        "outputId": "a3a1963f-56d6-4e23-f371-0eaeec1888da"
      },
      "source": [
        "print(sales_pred.head())"
      ],
      "execution_count": 92,
      "outputs": [
        {
          "output_type": "stream",
          "name": "stdout",
          "text": [
            "  Item_Identifier  Item_Weight  ...        Outlet_Type  Item_Outlet_Sales\n",
            "0           FDA15         9.30  ...  Supermarket Type1          3735.1380\n",
            "1           DRC01         5.92  ...  Supermarket Type2           443.4228\n",
            "2           FDN15        17.50  ...  Supermarket Type1          2097.2700\n",
            "3           FDX07        19.20  ...      Grocery Store           732.3800\n",
            "4           NCD19         8.93  ...  Supermarket Type1           994.7052\n",
            "\n",
            "[5 rows x 12 columns]\n"
          ]
        }
      ]
    },
    {
      "cell_type": "code",
      "metadata": {
        "colab": {
          "base_uri": "https://localhost:8080/"
        },
        "id": "b-iUltnkeDUw",
        "outputId": "bdd5a381-f05f-4975-d161-5f6270e761b2"
      },
      "source": [
        "sales_pred.info()"
      ],
      "execution_count": 93,
      "outputs": [
        {
          "output_type": "stream",
          "name": "stdout",
          "text": [
            "<class 'pandas.core.frame.DataFrame'>\n",
            "Int64Index: 8523 entries, 0 to 8522\n",
            "Data columns (total 12 columns):\n",
            " #   Column                     Non-Null Count  Dtype  \n",
            "---  ------                     --------------  -----  \n",
            " 0   Item_Identifier            8523 non-null   object \n",
            " 1   Item_Weight                8523 non-null   float64\n",
            " 2   Item_Fat_Content           8523 non-null   object \n",
            " 3   Item_Visibility            8523 non-null   float64\n",
            " 4   Item_Type                  8523 non-null   object \n",
            " 5   Item_MRP                   8523 non-null   float64\n",
            " 6   Outlet_Identifier          8523 non-null   object \n",
            " 7   Outlet_Establishment_Year  8523 non-null   int64  \n",
            " 8   Outlet_Size                8523 non-null   object \n",
            " 9   Outlet_Location_Type       8523 non-null   object \n",
            " 10  Outlet_Type                8523 non-null   object \n",
            " 11  Item_Outlet_Sales          8523 non-null   float64\n",
            "dtypes: float64(4), int64(1), object(7)\n",
            "memory usage: 865.6+ KB\n"
          ]
        }
      ]
    },
    {
      "cell_type": "code",
      "metadata": {
        "colab": {
          "base_uri": "https://localhost:8080/"
        },
        "id": "yyxO7BS2d1OR",
        "outputId": "c3e0a790-2b95-431c-be88-084c1304fa38"
      },
      "source": [
        "sales_pred['Item_Identifier'].unique().shape"
      ],
      "execution_count": 94,
      "outputs": [
        {
          "output_type": "execute_result",
          "data": {
            "text/plain": [
              "(1559,)"
            ]
          },
          "metadata": {},
          "execution_count": 94
        }
      ]
    },
    {
      "cell_type": "code",
      "metadata": {
        "colab": {
          "base_uri": "https://localhost:8080/"
        },
        "id": "AbQzzxJqeAwd",
        "outputId": "fc0a0704-1d74-47da-d7b8-7c75ee6add39"
      },
      "source": [
        "sales_pred['Outlet_Identifier'].unique()"
      ],
      "execution_count": 95,
      "outputs": [
        {
          "output_type": "execute_result",
          "data": {
            "text/plain": [
              "array(['OUT049', 'OUT018', 'OUT010', 'OUT013', 'OUT027', 'OUT045',\n",
              "       'OUT017', 'OUT046', 'OUT035', 'OUT019'], dtype=object)"
            ]
          },
          "metadata": {},
          "execution_count": 95
        }
      ]
    },
    {
      "cell_type": "code",
      "metadata": {
        "colab": {
          "base_uri": "https://localhost:8080/"
        },
        "id": "huMCAwW_dCCT",
        "outputId": "ad9bde89-aa2b-4495-9b9b-54edeca3032d"
      },
      "source": [
        "sales_pred['Item_Identifier'].describe()"
      ],
      "execution_count": 96,
      "outputs": [
        {
          "output_type": "execute_result",
          "data": {
            "text/plain": [
              "count      8523\n",
              "unique     1559\n",
              "top       FDG33\n",
              "freq         10\n",
              "Name: Item_Identifier, dtype: object"
            ]
          },
          "metadata": {},
          "execution_count": 96
        }
      ]
    },
    {
      "cell_type": "code",
      "metadata": {
        "colab": {
          "base_uri": "https://localhost:8080/",
          "height": 409
        },
        "id": "81GM2MMrdLCi",
        "outputId": "6c6ac5aa-6bbc-438c-b6c4-f64f6f3ccd0e"
      },
      "source": [
        "import matplotlib.pyplot as plt\n",
        "import seaborn as sns\n",
        "#plt.plot(sales_pred['Item_Identifier'],sales_pred['Item_Weight'],\"o\", color='blue')\n",
        "corr = sales_pred.corr()\n",
        "sns.heatmap(corr)"
      ],
      "execution_count": 97,
      "outputs": [
        {
          "output_type": "execute_result",
          "data": {
            "text/plain": [
              "<matplotlib.axes._subplots.AxesSubplot at 0x7f8dfb3e6bd0>"
            ]
          },
          "metadata": {},
          "execution_count": 97
        },
        {
          "output_type": "display_data",
          "data": {
            "image/png": "[encoded data removed]",
            "text/plain": [
              "<Figure size 432x288 with 2 Axes>"
            ]
          },
          "metadata": {
            "needs_background": "light"
          }
        }
      ]
    },
    {
      "cell_type": "code",
      "metadata": {
        "colab": {
          "base_uri": "https://localhost:8080/"
        },
        "id": "u4YSdrnih2m5",
        "outputId": "40f5ca69-6c36-41db-99cd-7115bd18802d"
      },
      "source": [
        "sales_pred['Item_Type'].describe()"
      ],
      "execution_count": 98,
      "outputs": [
        {
          "output_type": "execute_result",
          "data": {
            "text/plain": [
              "count                      8523\n",
              "unique                       16\n",
              "top       Fruits and Vegetables\n",
              "freq                       1232\n",
              "Name: Item_Type, dtype: object"
            ]
          },
          "metadata": {},
          "execution_count": 98
        }
      ]
    },
    {
      "cell_type": "code",
      "metadata": {
        "id": "0zHMJKNKeEOU",
        "colab": {
          "base_uri": "https://localhost:8080/",
          "height": 744
        },
        "outputId": "173a38c0-f4e8-4d78-8d7a-89669c4eecaf"
      },
      "source": [
        "#sns.histplot(data=sales_pred, x='Item_Type', hue='Item_Identifier')\n",
        "items = sales_pred[['Item_Identifier','Item_Type']]\n",
        "items.sort_values(by = ['Item_Type'], inplace=True)\n",
        "items.groupby(['Item_Type','Item_Identifier']).size().unstack(fill_value=0)"
      ],
      "execution_count": 99,
      "outputs": [
        {
          "output_type": "stream",
          "name": "stderr",
          "text": [
            "/usr/local/lib/python3.7/dist-packages/ipykernel_launcher.py:3: SettingWithCopyWarning: \n",
            "A value is trying to be set on a copy of a slice from a DataFrame\n",
            "\n",
            "See the caveats in the documentation: https://pandas.pydata.org/pandas-docs/stable/user_guide/indexing.html#returning-a-view-versus-a-copy\n",
            "  This is separate from the ipykernel package so we can avoid doing imports until\n"
          ]
        },
        {
          "output_type": "execute_result",
          "data": {
            "text/html": [
              "<div>\n",
              "<style scoped>\n",
              "    .dataframe tbody tr th:only-of-type {\n",
              "        vertical-align: middle;\n",
              "    }\n",
              "\n",
              "    .dataframe tbody tr th {\n",
              "        vertical-align: top;\n",
              "    }\n",
              "\n",
              "    .dataframe thead th {\n",
              "        text-align: right;\n",
              "    }\n",
              "</style>\n",
              "<table border=\"1\" class=\"dataframe\">\n",
              "  <thead>\n",
              "    <tr style=\"text-align: right;\">\n",
              "      <th>Item_Identifier</th>\n",
              "      <th>DRA12</th>\n",
              "      <th>DRA24</th>\n",
              "      <th>DRA59</th>\n",
              "      <th>DRB01</th>\n",
              "      <th>DRB13</th>\n",
              "      <th>DRB24</th>\n",
              "      <th>DRB25</th>\n",
              "      <th>DRB48</th>\n",
              "      <th>DRC01</th>\n",
              "      <th>DRC12</th>\n",
              "      <th>DRC13</th>\n",
              "      <th>DRC24</th>\n",
              "      <th>DRC25</th>\n",
              "      <th>DRC27</th>\n",
              "      <th>DRC36</th>\n",
              "      <th>DRC49</th>\n",
              "      <th>DRD01</th>\n",
              "      <th>DRD12</th>\n",
              "      <th>DRD13</th>\n",
              "      <th>DRD15</th>\n",
              "      <th>DRD24</th>\n",
              "      <th>DRD25</th>\n",
              "      <th>DRD27</th>\n",
              "      <th>DRD37</th>\n",
              "      <th>DRD49</th>\n",
              "      <th>DRD60</th>\n",
              "      <th>DRE01</th>\n",
              "      <th>DRE03</th>\n",
              "      <th>DRE12</th>\n",
              "      <th>DRE13</th>\n",
              "      <th>DRE15</th>\n",
              "      <th>DRE25</th>\n",
              "      <th>DRE27</th>\n",
              "      <th>DRE37</th>\n",
              "      <th>DRE48</th>\n",
              "      <th>DRE49</th>\n",
              "      <th>DRE60</th>\n",
              "      <th>DRF01</th>\n",
              "      <th>DRF03</th>\n",
              "      <th>DRF13</th>\n",
              "      <th>...</th>\n",
              "      <th>NCW05</th>\n",
              "      <th>NCW06</th>\n",
              "      <th>NCW17</th>\n",
              "      <th>NCW18</th>\n",
              "      <th>NCW29</th>\n",
              "      <th>NCW30</th>\n",
              "      <th>NCW41</th>\n",
              "      <th>NCW42</th>\n",
              "      <th>NCW53</th>\n",
              "      <th>NCW54</th>\n",
              "      <th>NCX05</th>\n",
              "      <th>NCX06</th>\n",
              "      <th>NCX17</th>\n",
              "      <th>NCX18</th>\n",
              "      <th>NCX29</th>\n",
              "      <th>NCX30</th>\n",
              "      <th>NCX41</th>\n",
              "      <th>NCX42</th>\n",
              "      <th>NCX53</th>\n",
              "      <th>NCX54</th>\n",
              "      <th>NCY05</th>\n",
              "      <th>NCY06</th>\n",
              "      <th>NCY17</th>\n",
              "      <th>NCY18</th>\n",
              "      <th>NCY29</th>\n",
              "      <th>NCY30</th>\n",
              "      <th>NCY41</th>\n",
              "      <th>NCY42</th>\n",
              "      <th>NCY53</th>\n",
              "      <th>NCY54</th>\n",
              "      <th>NCZ05</th>\n",
              "      <th>NCZ06</th>\n",
              "      <th>NCZ17</th>\n",
              "      <th>NCZ18</th>\n",
              "      <th>NCZ29</th>\n",
              "      <th>NCZ30</th>\n",
              "      <th>NCZ41</th>\n",
              "      <th>NCZ42</th>\n",
              "      <th>NCZ53</th>\n",
              "      <th>NCZ54</th>\n",
              "    </tr>\n",
              "    <tr>\n",
              "      <th>Item_Type</th>\n",
              "      <th></th>\n",
              "      <th></th>\n",
              "      <th></th>\n",
              "      <th></th>\n",
              "      <th></th>\n",
              "      <th></th>\n",
              "      <th></th>\n",
              "      <th></th>\n",
              "      <th></th>\n",
              "      <th></th>\n",
              "      <th></th>\n",
              "      <th></th>\n",
              "      <th></th>\n",
              "      <th></th>\n",
              "      <th></th>\n",
              "      <th></th>\n",
              "      <th></th>\n",
              "      <th></th>\n",
              "      <th></th>\n",
              "      <th></th>\n",
              "      <th></th>\n",
              "      <th></th>\n",
              "      <th></th>\n",
              "      <th></th>\n",
              "      <th></th>\n",
              "      <th></th>\n",
              "      <th></th>\n",
              "      <th></th>\n",
              "      <th></th>\n",
              "      <th></th>\n",
              "      <th></th>\n",
              "      <th></th>\n",
              "      <th></th>\n",
              "      <th></th>\n",
              "      <th></th>\n",
              "      <th></th>\n",
              "      <th></th>\n",
              "      <th></th>\n",
              "      <th></th>\n",
              "      <th></th>\n",
              "      <th></th>\n",
              "      <th></th>\n",
              "      <th></th>\n",
              "      <th></th>\n",
              "      <th></th>\n",
              "      <th></th>\n",
              "      <th></th>\n",
              "      <th></th>\n",
              "      <th></th>\n",
              "      <th></th>\n",
              "      <th></th>\n",
              "      <th></th>\n",
              "      <th></th>\n",
              "      <th></th>\n",
              "      <th></th>\n",
              "      <th></th>\n",
              "      <th></th>\n",
              "      <th></th>\n",
              "      <th></th>\n",
              "      <th></th>\n",
              "      <th></th>\n",
              "      <th></th>\n",
              "      <th></th>\n",
              "      <th></th>\n",
              "      <th></th>\n",
              "      <th></th>\n",
              "      <th></th>\n",
              "      <th></th>\n",
              "      <th></th>\n",
              "      <th></th>\n",
              "      <th></th>\n",
              "      <th></th>\n",
              "      <th></th>\n",
              "      <th></th>\n",
              "      <th></th>\n",
              "      <th></th>\n",
              "      <th></th>\n",
              "      <th></th>\n",
              "      <th></th>\n",
              "      <th></th>\n",
              "      <th></th>\n",
              "    </tr>\n",
              "  </thead>\n",
              "  <tbody>\n",
              "    <tr>\n",
              "      <th>Baking Goods</th>\n",
              "      <td>0</td>\n",
              "      <td>0</td>\n",
              "      <td>0</td>\n",
              "      <td>0</td>\n",
              "      <td>0</td>\n",
              "      <td>0</td>\n",
              "      <td>0</td>\n",
              "      <td>0</td>\n",
              "      <td>0</td>\n",
              "      <td>0</td>\n",
              "      <td>0</td>\n",
              "      <td>0</td>\n",
              "      <td>0</td>\n",
              "      <td>0</td>\n",
              "      <td>0</td>\n",
              "      <td>0</td>\n",
              "      <td>0</td>\n",
              "      <td>0</td>\n",
              "      <td>0</td>\n",
              "      <td>0</td>\n",
              "      <td>0</td>\n",
              "      <td>0</td>\n",
              "      <td>0</td>\n",
              "      <td>0</td>\n",
              "      <td>0</td>\n",
              "      <td>0</td>\n",
              "      <td>0</td>\n",
              "      <td>0</td>\n",
              "      <td>0</td>\n",
              "      <td>0</td>\n",
              "      <td>0</td>\n",
              "      <td>0</td>\n",
              "      <td>0</td>\n",
              "      <td>0</td>\n",
              "      <td>0</td>\n",
              "      <td>0</td>\n",
              "      <td>0</td>\n",
              "      <td>0</td>\n",
              "      <td>0</td>\n",
              "      <td>0</td>\n",
              "      <td>...</td>\n",
              "      <td>0</td>\n",
              "      <td>0</td>\n",
              "      <td>0</td>\n",
              "      <td>0</td>\n",
              "      <td>0</td>\n",
              "      <td>0</td>\n",
              "      <td>0</td>\n",
              "      <td>0</td>\n",
              "      <td>0</td>\n",
              "      <td>0</td>\n",
              "      <td>0</td>\n",
              "      <td>0</td>\n",
              "      <td>0</td>\n",
              "      <td>0</td>\n",
              "      <td>0</td>\n",
              "      <td>0</td>\n",
              "      <td>0</td>\n",
              "      <td>0</td>\n",
              "      <td>0</td>\n",
              "      <td>0</td>\n",
              "      <td>0</td>\n",
              "      <td>0</td>\n",
              "      <td>0</td>\n",
              "      <td>0</td>\n",
              "      <td>0</td>\n",
              "      <td>0</td>\n",
              "      <td>0</td>\n",
              "      <td>0</td>\n",
              "      <td>0</td>\n",
              "      <td>0</td>\n",
              "      <td>0</td>\n",
              "      <td>0</td>\n",
              "      <td>0</td>\n",
              "      <td>0</td>\n",
              "      <td>0</td>\n",
              "      <td>0</td>\n",
              "      <td>0</td>\n",
              "      <td>0</td>\n",
              "      <td>0</td>\n",
              "      <td>0</td>\n",
              "    </tr>\n",
              "    <tr>\n",
              "      <th>Breads</th>\n",
              "      <td>0</td>\n",
              "      <td>0</td>\n",
              "      <td>0</td>\n",
              "      <td>0</td>\n",
              "      <td>0</td>\n",
              "      <td>0</td>\n",
              "      <td>0</td>\n",
              "      <td>0</td>\n",
              "      <td>0</td>\n",
              "      <td>0</td>\n",
              "      <td>0</td>\n",
              "      <td>0</td>\n",
              "      <td>0</td>\n",
              "      <td>0</td>\n",
              "      <td>0</td>\n",
              "      <td>0</td>\n",
              "      <td>0</td>\n",
              "      <td>0</td>\n",
              "      <td>0</td>\n",
              "      <td>0</td>\n",
              "      <td>0</td>\n",
              "      <td>0</td>\n",
              "      <td>0</td>\n",
              "      <td>0</td>\n",
              "      <td>0</td>\n",
              "      <td>0</td>\n",
              "      <td>0</td>\n",
              "      <td>0</td>\n",
              "      <td>0</td>\n",
              "      <td>0</td>\n",
              "      <td>0</td>\n",
              "      <td>0</td>\n",
              "      <td>0</td>\n",
              "      <td>0</td>\n",
              "      <td>0</td>\n",
              "      <td>0</td>\n",
              "      <td>0</td>\n",
              "      <td>0</td>\n",
              "      <td>0</td>\n",
              "      <td>0</td>\n",
              "      <td>...</td>\n",
              "      <td>0</td>\n",
              "      <td>0</td>\n",
              "      <td>0</td>\n",
              "      <td>0</td>\n",
              "      <td>0</td>\n",
              "      <td>0</td>\n",
              "      <td>0</td>\n",
              "      <td>0</td>\n",
              "      <td>0</td>\n",
              "      <td>0</td>\n",
              "      <td>0</td>\n",
              "      <td>0</td>\n",
              "      <td>0</td>\n",
              "      <td>0</td>\n",
              "      <td>0</td>\n",
              "      <td>0</td>\n",
              "      <td>0</td>\n",
              "      <td>0</td>\n",
              "      <td>0</td>\n",
              "      <td>0</td>\n",
              "      <td>0</td>\n",
              "      <td>0</td>\n",
              "      <td>0</td>\n",
              "      <td>0</td>\n",
              "      <td>0</td>\n",
              "      <td>0</td>\n",
              "      <td>0</td>\n",
              "      <td>0</td>\n",
              "      <td>0</td>\n",
              "      <td>0</td>\n",
              "      <td>0</td>\n",
              "      <td>0</td>\n",
              "      <td>0</td>\n",
              "      <td>0</td>\n",
              "      <td>0</td>\n",
              "      <td>0</td>\n",
              "      <td>0</td>\n",
              "      <td>0</td>\n",
              "      <td>0</td>\n",
              "      <td>0</td>\n",
              "    </tr>\n",
              "    <tr>\n",
              "      <th>Breakfast</th>\n",
              "      <td>0</td>\n",
              "      <td>0</td>\n",
              "      <td>0</td>\n",
              "      <td>0</td>\n",
              "      <td>0</td>\n",
              "      <td>0</td>\n",
              "      <td>0</td>\n",
              "      <td>0</td>\n",
              "      <td>0</td>\n",
              "      <td>0</td>\n",
              "      <td>0</td>\n",
              "      <td>0</td>\n",
              "      <td>0</td>\n",
              "      <td>0</td>\n",
              "      <td>0</td>\n",
              "      <td>0</td>\n",
              "      <td>0</td>\n",
              "      <td>0</td>\n",
              "      <td>0</td>\n",
              "      <td>0</td>\n",
              "      <td>0</td>\n",
              "      <td>0</td>\n",
              "      <td>0</td>\n",
              "      <td>0</td>\n",
              "      <td>0</td>\n",
              "      <td>0</td>\n",
              "      <td>0</td>\n",
              "      <td>0</td>\n",
              "      <td>0</td>\n",
              "      <td>0</td>\n",
              "      <td>0</td>\n",
              "      <td>0</td>\n",
              "      <td>0</td>\n",
              "      <td>0</td>\n",
              "      <td>0</td>\n",
              "      <td>0</td>\n",
              "      <td>0</td>\n",
              "      <td>0</td>\n",
              "      <td>0</td>\n",
              "      <td>0</td>\n",
              "      <td>...</td>\n",
              "      <td>0</td>\n",
              "      <td>0</td>\n",
              "      <td>0</td>\n",
              "      <td>0</td>\n",
              "      <td>0</td>\n",
              "      <td>0</td>\n",
              "      <td>0</td>\n",
              "      <td>0</td>\n",
              "      <td>0</td>\n",
              "      <td>0</td>\n",
              "      <td>0</td>\n",
              "      <td>0</td>\n",
              "      <td>0</td>\n",
              "      <td>0</td>\n",
              "      <td>0</td>\n",
              "      <td>0</td>\n",
              "      <td>0</td>\n",
              "      <td>0</td>\n",
              "      <td>0</td>\n",
              "      <td>0</td>\n",
              "      <td>0</td>\n",
              "      <td>0</td>\n",
              "      <td>0</td>\n",
              "      <td>0</td>\n",
              "      <td>0</td>\n",
              "      <td>0</td>\n",
              "      <td>0</td>\n",
              "      <td>0</td>\n",
              "      <td>0</td>\n",
              "      <td>0</td>\n",
              "      <td>0</td>\n",
              "      <td>0</td>\n",
              "      <td>0</td>\n",
              "      <td>0</td>\n",
              "      <td>0</td>\n",
              "      <td>0</td>\n",
              "      <td>0</td>\n",
              "      <td>0</td>\n",
              "      <td>0</td>\n",
              "      <td>0</td>\n",
              "    </tr>\n",
              "    <tr>\n",
              "      <th>Canned</th>\n",
              "      <td>0</td>\n",
              "      <td>0</td>\n",
              "      <td>0</td>\n",
              "      <td>0</td>\n",
              "      <td>0</td>\n",
              "      <td>0</td>\n",
              "      <td>0</td>\n",
              "      <td>0</td>\n",
              "      <td>0</td>\n",
              "      <td>0</td>\n",
              "      <td>0</td>\n",
              "      <td>0</td>\n",
              "      <td>0</td>\n",
              "      <td>0</td>\n",
              "      <td>0</td>\n",
              "      <td>0</td>\n",
              "      <td>0</td>\n",
              "      <td>0</td>\n",
              "      <td>0</td>\n",
              "      <td>0</td>\n",
              "      <td>0</td>\n",
              "      <td>0</td>\n",
              "      <td>0</td>\n",
              "      <td>0</td>\n",
              "      <td>0</td>\n",
              "      <td>0</td>\n",
              "      <td>0</td>\n",
              "      <td>0</td>\n",
              "      <td>0</td>\n",
              "      <td>0</td>\n",
              "      <td>0</td>\n",
              "      <td>0</td>\n",
              "      <td>0</td>\n",
              "      <td>0</td>\n",
              "      <td>0</td>\n",
              "      <td>0</td>\n",
              "      <td>0</td>\n",
              "      <td>0</td>\n",
              "      <td>0</td>\n",
              "      <td>0</td>\n",
              "      <td>...</td>\n",
              "      <td>0</td>\n",
              "      <td>0</td>\n",
              "      <td>0</td>\n",
              "      <td>0</td>\n",
              "      <td>0</td>\n",
              "      <td>0</td>\n",
              "      <td>0</td>\n",
              "      <td>0</td>\n",
              "      <td>0</td>\n",
              "      <td>0</td>\n",
              "      <td>0</td>\n",
              "      <td>0</td>\n",
              "      <td>0</td>\n",
              "      <td>0</td>\n",
              "      <td>0</td>\n",
              "      <td>0</td>\n",
              "      <td>0</td>\n",
              "      <td>0</td>\n",
              "      <td>0</td>\n",
              "      <td>0</td>\n",
              "      <td>0</td>\n",
              "      <td>0</td>\n",
              "      <td>0</td>\n",
              "      <td>0</td>\n",
              "      <td>0</td>\n",
              "      <td>0</td>\n",
              "      <td>0</td>\n",
              "      <td>0</td>\n",
              "      <td>0</td>\n",
              "      <td>0</td>\n",
              "      <td>0</td>\n",
              "      <td>0</td>\n",
              "      <td>0</td>\n",
              "      <td>0</td>\n",
              "      <td>0</td>\n",
              "      <td>0</td>\n",
              "      <td>0</td>\n",
              "      <td>0</td>\n",
              "      <td>0</td>\n",
              "      <td>0</td>\n",
              "    </tr>\n",
              "    <tr>\n",
              "      <th>Dairy</th>\n",
              "      <td>0</td>\n",
              "      <td>0</td>\n",
              "      <td>0</td>\n",
              "      <td>0</td>\n",
              "      <td>0</td>\n",
              "      <td>0</td>\n",
              "      <td>0</td>\n",
              "      <td>0</td>\n",
              "      <td>0</td>\n",
              "      <td>0</td>\n",
              "      <td>0</td>\n",
              "      <td>0</td>\n",
              "      <td>0</td>\n",
              "      <td>6</td>\n",
              "      <td>0</td>\n",
              "      <td>0</td>\n",
              "      <td>0</td>\n",
              "      <td>0</td>\n",
              "      <td>0</td>\n",
              "      <td>7</td>\n",
              "      <td>0</td>\n",
              "      <td>0</td>\n",
              "      <td>5</td>\n",
              "      <td>0</td>\n",
              "      <td>0</td>\n",
              "      <td>0</td>\n",
              "      <td>0</td>\n",
              "      <td>7</td>\n",
              "      <td>0</td>\n",
              "      <td>0</td>\n",
              "      <td>6</td>\n",
              "      <td>0</td>\n",
              "      <td>6</td>\n",
              "      <td>0</td>\n",
              "      <td>0</td>\n",
              "      <td>0</td>\n",
              "      <td>0</td>\n",
              "      <td>0</td>\n",
              "      <td>8</td>\n",
              "      <td>0</td>\n",
              "      <td>...</td>\n",
              "      <td>0</td>\n",
              "      <td>0</td>\n",
              "      <td>0</td>\n",
              "      <td>0</td>\n",
              "      <td>0</td>\n",
              "      <td>0</td>\n",
              "      <td>0</td>\n",
              "      <td>0</td>\n",
              "      <td>0</td>\n",
              "      <td>0</td>\n",
              "      <td>0</td>\n",
              "      <td>0</td>\n",
              "      <td>0</td>\n",
              "      <td>0</td>\n",
              "      <td>0</td>\n",
              "      <td>0</td>\n",
              "      <td>0</td>\n",
              "      <td>0</td>\n",
              "      <td>0</td>\n",
              "      <td>0</td>\n",
              "      <td>0</td>\n",
              "      <td>0</td>\n",
              "      <td>0</td>\n",
              "      <td>0</td>\n",
              "      <td>0</td>\n",
              "      <td>0</td>\n",
              "      <td>0</td>\n",
              "      <td>0</td>\n",
              "      <td>0</td>\n",
              "      <td>0</td>\n",
              "      <td>0</td>\n",
              "      <td>0</td>\n",
              "      <td>0</td>\n",
              "      <td>0</td>\n",
              "      <td>0</td>\n",
              "      <td>0</td>\n",
              "      <td>0</td>\n",
              "      <td>0</td>\n",
              "      <td>0</td>\n",
              "      <td>0</td>\n",
              "    </tr>\n",
              "    <tr>\n",
              "      <th>Frozen Foods</th>\n",
              "      <td>0</td>\n",
              "      <td>0</td>\n",
              "      <td>0</td>\n",
              "      <td>0</td>\n",
              "      <td>0</td>\n",
              "      <td>0</td>\n",
              "      <td>0</td>\n",
              "      <td>0</td>\n",
              "      <td>0</td>\n",
              "      <td>0</td>\n",
              "      <td>0</td>\n",
              "      <td>0</td>\n",
              "      <td>0</td>\n",
              "      <td>0</td>\n",
              "      <td>0</td>\n",
              "      <td>0</td>\n",
              "      <td>0</td>\n",
              "      <td>0</td>\n",
              "      <td>0</td>\n",
              "      <td>0</td>\n",
              "      <td>0</td>\n",
              "      <td>0</td>\n",
              "      <td>0</td>\n",
              "      <td>0</td>\n",
              "      <td>0</td>\n",
              "      <td>0</td>\n",
              "      <td>0</td>\n",
              "      <td>0</td>\n",
              "      <td>0</td>\n",
              "      <td>0</td>\n",
              "      <td>0</td>\n",
              "      <td>0</td>\n",
              "      <td>0</td>\n",
              "      <td>0</td>\n",
              "      <td>0</td>\n",
              "      <td>0</td>\n",
              "      <td>0</td>\n",
              "      <td>0</td>\n",
              "      <td>0</td>\n",
              "      <td>0</td>\n",
              "      <td>...</td>\n",
              "      <td>0</td>\n",
              "      <td>0</td>\n",
              "      <td>0</td>\n",
              "      <td>0</td>\n",
              "      <td>0</td>\n",
              "      <td>0</td>\n",
              "      <td>0</td>\n",
              "      <td>0</td>\n",
              "      <td>0</td>\n",
              "      <td>0</td>\n",
              "      <td>0</td>\n",
              "      <td>0</td>\n",
              "      <td>0</td>\n",
              "      <td>0</td>\n",
              "      <td>0</td>\n",
              "      <td>0</td>\n",
              "      <td>0</td>\n",
              "      <td>0</td>\n",
              "      <td>0</td>\n",
              "      <td>0</td>\n",
              "      <td>0</td>\n",
              "      <td>0</td>\n",
              "      <td>0</td>\n",
              "      <td>0</td>\n",
              "      <td>0</td>\n",
              "      <td>0</td>\n",
              "      <td>0</td>\n",
              "      <td>0</td>\n",
              "      <td>0</td>\n",
              "      <td>0</td>\n",
              "      <td>0</td>\n",
              "      <td>0</td>\n",
              "      <td>0</td>\n",
              "      <td>0</td>\n",
              "      <td>0</td>\n",
              "      <td>0</td>\n",
              "      <td>0</td>\n",
              "      <td>0</td>\n",
              "      <td>0</td>\n",
              "      <td>0</td>\n",
              "    </tr>\n",
              "    <tr>\n",
              "      <th>Fruits and Vegetables</th>\n",
              "      <td>0</td>\n",
              "      <td>0</td>\n",
              "      <td>0</td>\n",
              "      <td>0</td>\n",
              "      <td>0</td>\n",
              "      <td>0</td>\n",
              "      <td>0</td>\n",
              "      <td>0</td>\n",
              "      <td>0</td>\n",
              "      <td>0</td>\n",
              "      <td>0</td>\n",
              "      <td>0</td>\n",
              "      <td>0</td>\n",
              "      <td>0</td>\n",
              "      <td>0</td>\n",
              "      <td>0</td>\n",
              "      <td>0</td>\n",
              "      <td>0</td>\n",
              "      <td>0</td>\n",
              "      <td>0</td>\n",
              "      <td>0</td>\n",
              "      <td>0</td>\n",
              "      <td>0</td>\n",
              "      <td>0</td>\n",
              "      <td>0</td>\n",
              "      <td>0</td>\n",
              "      <td>0</td>\n",
              "      <td>0</td>\n",
              "      <td>0</td>\n",
              "      <td>0</td>\n",
              "      <td>0</td>\n",
              "      <td>0</td>\n",
              "      <td>0</td>\n",
              "      <td>0</td>\n",
              "      <td>0</td>\n",
              "      <td>0</td>\n",
              "      <td>0</td>\n",
              "      <td>0</td>\n",
              "      <td>0</td>\n",
              "      <td>0</td>\n",
              "      <td>...</td>\n",
              "      <td>0</td>\n",
              "      <td>0</td>\n",
              "      <td>0</td>\n",
              "      <td>0</td>\n",
              "      <td>0</td>\n",
              "      <td>0</td>\n",
              "      <td>0</td>\n",
              "      <td>0</td>\n",
              "      <td>0</td>\n",
              "      <td>0</td>\n",
              "      <td>0</td>\n",
              "      <td>0</td>\n",
              "      <td>0</td>\n",
              "      <td>0</td>\n",
              "      <td>0</td>\n",
              "      <td>0</td>\n",
              "      <td>0</td>\n",
              "      <td>0</td>\n",
              "      <td>0</td>\n",
              "      <td>0</td>\n",
              "      <td>0</td>\n",
              "      <td>0</td>\n",
              "      <td>0</td>\n",
              "      <td>0</td>\n",
              "      <td>0</td>\n",
              "      <td>0</td>\n",
              "      <td>0</td>\n",
              "      <td>0</td>\n",
              "      <td>0</td>\n",
              "      <td>0</td>\n",
              "      <td>0</td>\n",
              "      <td>0</td>\n",
              "      <td>0</td>\n",
              "      <td>0</td>\n",
              "      <td>0</td>\n",
              "      <td>0</td>\n",
              "      <td>0</td>\n",
              "      <td>0</td>\n",
              "      <td>0</td>\n",
              "      <td>0</td>\n",
              "    </tr>\n",
              "    <tr>\n",
              "      <th>Hard Drinks</th>\n",
              "      <td>0</td>\n",
              "      <td>0</td>\n",
              "      <td>0</td>\n",
              "      <td>0</td>\n",
              "      <td>0</td>\n",
              "      <td>0</td>\n",
              "      <td>0</td>\n",
              "      <td>0</td>\n",
              "      <td>0</td>\n",
              "      <td>0</td>\n",
              "      <td>0</td>\n",
              "      <td>0</td>\n",
              "      <td>0</td>\n",
              "      <td>0</td>\n",
              "      <td>0</td>\n",
              "      <td>0</td>\n",
              "      <td>0</td>\n",
              "      <td>0</td>\n",
              "      <td>0</td>\n",
              "      <td>0</td>\n",
              "      <td>0</td>\n",
              "      <td>0</td>\n",
              "      <td>0</td>\n",
              "      <td>0</td>\n",
              "      <td>0</td>\n",
              "      <td>0</td>\n",
              "      <td>0</td>\n",
              "      <td>0</td>\n",
              "      <td>0</td>\n",
              "      <td>0</td>\n",
              "      <td>0</td>\n",
              "      <td>0</td>\n",
              "      <td>0</td>\n",
              "      <td>0</td>\n",
              "      <td>0</td>\n",
              "      <td>0</td>\n",
              "      <td>0</td>\n",
              "      <td>0</td>\n",
              "      <td>0</td>\n",
              "      <td>0</td>\n",
              "      <td>...</td>\n",
              "      <td>0</td>\n",
              "      <td>0</td>\n",
              "      <td>0</td>\n",
              "      <td>0</td>\n",
              "      <td>0</td>\n",
              "      <td>0</td>\n",
              "      <td>0</td>\n",
              "      <td>0</td>\n",
              "      <td>0</td>\n",
              "      <td>0</td>\n",
              "      <td>0</td>\n",
              "      <td>0</td>\n",
              "      <td>0</td>\n",
              "      <td>0</td>\n",
              "      <td>0</td>\n",
              "      <td>0</td>\n",
              "      <td>0</td>\n",
              "      <td>0</td>\n",
              "      <td>0</td>\n",
              "      <td>0</td>\n",
              "      <td>0</td>\n",
              "      <td>0</td>\n",
              "      <td>0</td>\n",
              "      <td>0</td>\n",
              "      <td>0</td>\n",
              "      <td>0</td>\n",
              "      <td>0</td>\n",
              "      <td>0</td>\n",
              "      <td>0</td>\n",
              "      <td>0</td>\n",
              "      <td>0</td>\n",
              "      <td>0</td>\n",
              "      <td>0</td>\n",
              "      <td>0</td>\n",
              "      <td>0</td>\n",
              "      <td>0</td>\n",
              "      <td>0</td>\n",
              "      <td>0</td>\n",
              "      <td>0</td>\n",
              "      <td>0</td>\n",
              "    </tr>\n",
              "    <tr>\n",
              "      <th>Health and Hygiene</th>\n",
              "      <td>0</td>\n",
              "      <td>0</td>\n",
              "      <td>0</td>\n",
              "      <td>0</td>\n",
              "      <td>0</td>\n",
              "      <td>0</td>\n",
              "      <td>0</td>\n",
              "      <td>0</td>\n",
              "      <td>0</td>\n",
              "      <td>0</td>\n",
              "      <td>0</td>\n",
              "      <td>0</td>\n",
              "      <td>0</td>\n",
              "      <td>0</td>\n",
              "      <td>0</td>\n",
              "      <td>0</td>\n",
              "      <td>0</td>\n",
              "      <td>0</td>\n",
              "      <td>0</td>\n",
              "      <td>0</td>\n",
              "      <td>0</td>\n",
              "      <td>0</td>\n",
              "      <td>0</td>\n",
              "      <td>0</td>\n",
              "      <td>0</td>\n",
              "      <td>0</td>\n",
              "      <td>0</td>\n",
              "      <td>0</td>\n",
              "      <td>0</td>\n",
              "      <td>0</td>\n",
              "      <td>0</td>\n",
              "      <td>0</td>\n",
              "      <td>0</td>\n",
              "      <td>0</td>\n",
              "      <td>0</td>\n",
              "      <td>0</td>\n",
              "      <td>0</td>\n",
              "      <td>0</td>\n",
              "      <td>0</td>\n",
              "      <td>0</td>\n",
              "      <td>...</td>\n",
              "      <td>2</td>\n",
              "      <td>0</td>\n",
              "      <td>4</td>\n",
              "      <td>0</td>\n",
              "      <td>6</td>\n",
              "      <td>0</td>\n",
              "      <td>5</td>\n",
              "      <td>0</td>\n",
              "      <td>7</td>\n",
              "      <td>0</td>\n",
              "      <td>8</td>\n",
              "      <td>0</td>\n",
              "      <td>3</td>\n",
              "      <td>0</td>\n",
              "      <td>8</td>\n",
              "      <td>0</td>\n",
              "      <td>6</td>\n",
              "      <td>0</td>\n",
              "      <td>2</td>\n",
              "      <td>0</td>\n",
              "      <td>5</td>\n",
              "      <td>0</td>\n",
              "      <td>5</td>\n",
              "      <td>0</td>\n",
              "      <td>8</td>\n",
              "      <td>0</td>\n",
              "      <td>7</td>\n",
              "      <td>0</td>\n",
              "      <td>5</td>\n",
              "      <td>0</td>\n",
              "      <td>3</td>\n",
              "      <td>0</td>\n",
              "      <td>6</td>\n",
              "      <td>0</td>\n",
              "      <td>4</td>\n",
              "      <td>0</td>\n",
              "      <td>5</td>\n",
              "      <td>0</td>\n",
              "      <td>5</td>\n",
              "      <td>0</td>\n",
              "    </tr>\n",
              "    <tr>\n",
              "      <th>Household</th>\n",
              "      <td>0</td>\n",
              "      <td>0</td>\n",
              "      <td>0</td>\n",
              "      <td>0</td>\n",
              "      <td>0</td>\n",
              "      <td>0</td>\n",
              "      <td>0</td>\n",
              "      <td>0</td>\n",
              "      <td>0</td>\n",
              "      <td>0</td>\n",
              "      <td>0</td>\n",
              "      <td>0</td>\n",
              "      <td>0</td>\n",
              "      <td>0</td>\n",
              "      <td>0</td>\n",
              "      <td>0</td>\n",
              "      <td>0</td>\n",
              "      <td>0</td>\n",
              "      <td>0</td>\n",
              "      <td>0</td>\n",
              "      <td>0</td>\n",
              "      <td>0</td>\n",
              "      <td>0</td>\n",
              "      <td>0</td>\n",
              "      <td>0</td>\n",
              "      <td>0</td>\n",
              "      <td>0</td>\n",
              "      <td>0</td>\n",
              "      <td>0</td>\n",
              "      <td>0</td>\n",
              "      <td>0</td>\n",
              "      <td>0</td>\n",
              "      <td>0</td>\n",
              "      <td>0</td>\n",
              "      <td>0</td>\n",
              "      <td>0</td>\n",
              "      <td>0</td>\n",
              "      <td>0</td>\n",
              "      <td>0</td>\n",
              "      <td>0</td>\n",
              "      <td>...</td>\n",
              "      <td>0</td>\n",
              "      <td>5</td>\n",
              "      <td>0</td>\n",
              "      <td>4</td>\n",
              "      <td>0</td>\n",
              "      <td>2</td>\n",
              "      <td>0</td>\n",
              "      <td>5</td>\n",
              "      <td>0</td>\n",
              "      <td>5</td>\n",
              "      <td>0</td>\n",
              "      <td>5</td>\n",
              "      <td>0</td>\n",
              "      <td>7</td>\n",
              "      <td>0</td>\n",
              "      <td>6</td>\n",
              "      <td>0</td>\n",
              "      <td>7</td>\n",
              "      <td>0</td>\n",
              "      <td>7</td>\n",
              "      <td>0</td>\n",
              "      <td>5</td>\n",
              "      <td>0</td>\n",
              "      <td>9</td>\n",
              "      <td>0</td>\n",
              "      <td>4</td>\n",
              "      <td>0</td>\n",
              "      <td>4</td>\n",
              "      <td>0</td>\n",
              "      <td>4</td>\n",
              "      <td>0</td>\n",
              "      <td>7</td>\n",
              "      <td>0</td>\n",
              "      <td>7</td>\n",
              "      <td>0</td>\n",
              "      <td>7</td>\n",
              "      <td>0</td>\n",
              "      <td>5</td>\n",
              "      <td>0</td>\n",
              "      <td>7</td>\n",
              "    </tr>\n",
              "    <tr>\n",
              "      <th>Meat</th>\n",
              "      <td>0</td>\n",
              "      <td>0</td>\n",
              "      <td>0</td>\n",
              "      <td>0</td>\n",
              "      <td>0</td>\n",
              "      <td>0</td>\n",
              "      <td>0</td>\n",
              "      <td>0</td>\n",
              "      <td>0</td>\n",
              "      <td>0</td>\n",
              "      <td>0</td>\n",
              "      <td>0</td>\n",
              "      <td>0</td>\n",
              "      <td>0</td>\n",
              "      <td>0</td>\n",
              "      <td>0</td>\n",
              "      <td>0</td>\n",
              "      <td>0</td>\n",
              "      <td>0</td>\n",
              "      <td>0</td>\n",
              "      <td>0</td>\n",
              "      <td>0</td>\n",
              "      <td>0</td>\n",
              "      <td>0</td>\n",
              "      <td>0</td>\n",
              "      <td>0</td>\n",
              "      <td>0</td>\n",
              "      <td>0</td>\n",
              "      <td>0</td>\n",
              "      <td>0</td>\n",
              "      <td>0</td>\n",
              "      <td>0</td>\n",
              "      <td>0</td>\n",
              "      <td>0</td>\n",
              "      <td>0</td>\n",
              "      <td>0</td>\n",
              "      <td>0</td>\n",
              "      <td>0</td>\n",
              "      <td>0</td>\n",
              "      <td>0</td>\n",
              "      <td>...</td>\n",
              "      <td>0</td>\n",
              "      <td>0</td>\n",
              "      <td>0</td>\n",
              "      <td>0</td>\n",
              "      <td>0</td>\n",
              "      <td>0</td>\n",
              "      <td>0</td>\n",
              "      <td>0</td>\n",
              "      <td>0</td>\n",
              "      <td>0</td>\n",
              "      <td>0</td>\n",
              "      <td>0</td>\n",
              "      <td>0</td>\n",
              "      <td>0</td>\n",
              "      <td>0</td>\n",
              "      <td>0</td>\n",
              "      <td>0</td>\n",
              "      <td>0</td>\n",
              "      <td>0</td>\n",
              "      <td>0</td>\n",
              "      <td>0</td>\n",
              "      <td>0</td>\n",
              "      <td>0</td>\n",
              "      <td>0</td>\n",
              "      <td>0</td>\n",
              "      <td>0</td>\n",
              "      <td>0</td>\n",
              "      <td>0</td>\n",
              "      <td>0</td>\n",
              "      <td>0</td>\n",
              "      <td>0</td>\n",
              "      <td>0</td>\n",
              "      <td>0</td>\n",
              "      <td>0</td>\n",
              "      <td>0</td>\n",
              "      <td>0</td>\n",
              "      <td>0</td>\n",
              "      <td>0</td>\n",
              "      <td>0</td>\n",
              "      <td>0</td>\n",
              "    </tr>\n",
              "    <tr>\n",
              "      <th>Others</th>\n",
              "      <td>0</td>\n",
              "      <td>0</td>\n",
              "      <td>0</td>\n",
              "      <td>0</td>\n",
              "      <td>0</td>\n",
              "      <td>0</td>\n",
              "      <td>0</td>\n",
              "      <td>0</td>\n",
              "      <td>0</td>\n",
              "      <td>0</td>\n",
              "      <td>0</td>\n",
              "      <td>0</td>\n",
              "      <td>0</td>\n",
              "      <td>0</td>\n",
              "      <td>0</td>\n",
              "      <td>0</td>\n",
              "      <td>0</td>\n",
              "      <td>0</td>\n",
              "      <td>0</td>\n",
              "      <td>0</td>\n",
              "      <td>0</td>\n",
              "      <td>0</td>\n",
              "      <td>0</td>\n",
              "      <td>0</td>\n",
              "      <td>0</td>\n",
              "      <td>0</td>\n",
              "      <td>0</td>\n",
              "      <td>0</td>\n",
              "      <td>0</td>\n",
              "      <td>0</td>\n",
              "      <td>0</td>\n",
              "      <td>0</td>\n",
              "      <td>0</td>\n",
              "      <td>0</td>\n",
              "      <td>0</td>\n",
              "      <td>0</td>\n",
              "      <td>0</td>\n",
              "      <td>0</td>\n",
              "      <td>0</td>\n",
              "      <td>0</td>\n",
              "      <td>...</td>\n",
              "      <td>0</td>\n",
              "      <td>0</td>\n",
              "      <td>0</td>\n",
              "      <td>0</td>\n",
              "      <td>0</td>\n",
              "      <td>0</td>\n",
              "      <td>0</td>\n",
              "      <td>0</td>\n",
              "      <td>0</td>\n",
              "      <td>0</td>\n",
              "      <td>0</td>\n",
              "      <td>0</td>\n",
              "      <td>0</td>\n",
              "      <td>0</td>\n",
              "      <td>0</td>\n",
              "      <td>0</td>\n",
              "      <td>0</td>\n",
              "      <td>0</td>\n",
              "      <td>0</td>\n",
              "      <td>0</td>\n",
              "      <td>0</td>\n",
              "      <td>0</td>\n",
              "      <td>0</td>\n",
              "      <td>0</td>\n",
              "      <td>0</td>\n",
              "      <td>0</td>\n",
              "      <td>0</td>\n",
              "      <td>0</td>\n",
              "      <td>0</td>\n",
              "      <td>0</td>\n",
              "      <td>0</td>\n",
              "      <td>0</td>\n",
              "      <td>0</td>\n",
              "      <td>0</td>\n",
              "      <td>0</td>\n",
              "      <td>0</td>\n",
              "      <td>0</td>\n",
              "      <td>0</td>\n",
              "      <td>0</td>\n",
              "      <td>0</td>\n",
              "    </tr>\n",
              "    <tr>\n",
              "      <th>Seafood</th>\n",
              "      <td>0</td>\n",
              "      <td>0</td>\n",
              "      <td>0</td>\n",
              "      <td>0</td>\n",
              "      <td>0</td>\n",
              "      <td>0</td>\n",
              "      <td>0</td>\n",
              "      <td>0</td>\n",
              "      <td>0</td>\n",
              "      <td>0</td>\n",
              "      <td>0</td>\n",
              "      <td>0</td>\n",
              "      <td>0</td>\n",
              "      <td>0</td>\n",
              "      <td>0</td>\n",
              "      <td>0</td>\n",
              "      <td>0</td>\n",
              "      <td>0</td>\n",
              "      <td>0</td>\n",
              "      <td>0</td>\n",
              "      <td>0</td>\n",
              "      <td>0</td>\n",
              "      <td>0</td>\n",
              "      <td>0</td>\n",
              "      <td>0</td>\n",
              "      <td>0</td>\n",
              "      <td>0</td>\n",
              "      <td>0</td>\n",
              "      <td>0</td>\n",
              "      <td>0</td>\n",
              "      <td>0</td>\n",
              "      <td>0</td>\n",
              "      <td>0</td>\n",
              "      <td>0</td>\n",
              "      <td>0</td>\n",
              "      <td>0</td>\n",
              "      <td>0</td>\n",
              "      <td>0</td>\n",
              "      <td>0</td>\n",
              "      <td>0</td>\n",
              "      <td>...</td>\n",
              "      <td>0</td>\n",
              "      <td>0</td>\n",
              "      <td>0</td>\n",
              "      <td>0</td>\n",
              "      <td>0</td>\n",
              "      <td>0</td>\n",
              "      <td>0</td>\n",
              "      <td>0</td>\n",
              "      <td>0</td>\n",
              "      <td>0</td>\n",
              "      <td>0</td>\n",
              "      <td>0</td>\n",
              "      <td>0</td>\n",
              "      <td>0</td>\n",
              "      <td>0</td>\n",
              "      <td>0</td>\n",
              "      <td>0</td>\n",
              "      <td>0</td>\n",
              "      <td>0</td>\n",
              "      <td>0</td>\n",
              "      <td>0</td>\n",
              "      <td>0</td>\n",
              "      <td>0</td>\n",
              "      <td>0</td>\n",
              "      <td>0</td>\n",
              "      <td>0</td>\n",
              "      <td>0</td>\n",
              "      <td>0</td>\n",
              "      <td>0</td>\n",
              "      <td>0</td>\n",
              "      <td>0</td>\n",
              "      <td>0</td>\n",
              "      <td>0</td>\n",
              "      <td>0</td>\n",
              "      <td>0</td>\n",
              "      <td>0</td>\n",
              "      <td>0</td>\n",
              "      <td>0</td>\n",
              "      <td>0</td>\n",
              "      <td>0</td>\n",
              "    </tr>\n",
              "    <tr>\n",
              "      <th>Snack Foods</th>\n",
              "      <td>0</td>\n",
              "      <td>0</td>\n",
              "      <td>0</td>\n",
              "      <td>0</td>\n",
              "      <td>0</td>\n",
              "      <td>0</td>\n",
              "      <td>0</td>\n",
              "      <td>0</td>\n",
              "      <td>0</td>\n",
              "      <td>0</td>\n",
              "      <td>0</td>\n",
              "      <td>0</td>\n",
              "      <td>0</td>\n",
              "      <td>0</td>\n",
              "      <td>0</td>\n",
              "      <td>0</td>\n",
              "      <td>0</td>\n",
              "      <td>0</td>\n",
              "      <td>0</td>\n",
              "      <td>0</td>\n",
              "      <td>0</td>\n",
              "      <td>0</td>\n",
              "      <td>0</td>\n",
              "      <td>0</td>\n",
              "      <td>0</td>\n",
              "      <td>0</td>\n",
              "      <td>0</td>\n",
              "      <td>0</td>\n",
              "      <td>0</td>\n",
              "      <td>0</td>\n",
              "      <td>0</td>\n",
              "      <td>0</td>\n",
              "      <td>0</td>\n",
              "      <td>0</td>\n",
              "      <td>0</td>\n",
              "      <td>0</td>\n",
              "      <td>0</td>\n",
              "      <td>0</td>\n",
              "      <td>0</td>\n",
              "      <td>0</td>\n",
              "      <td>...</td>\n",
              "      <td>0</td>\n",
              "      <td>0</td>\n",
              "      <td>0</td>\n",
              "      <td>0</td>\n",
              "      <td>0</td>\n",
              "      <td>0</td>\n",
              "      <td>0</td>\n",
              "      <td>0</td>\n",
              "      <td>0</td>\n",
              "      <td>0</td>\n",
              "      <td>0</td>\n",
              "      <td>0</td>\n",
              "      <td>0</td>\n",
              "      <td>0</td>\n",
              "      <td>0</td>\n",
              "      <td>0</td>\n",
              "      <td>0</td>\n",
              "      <td>0</td>\n",
              "      <td>0</td>\n",
              "      <td>0</td>\n",
              "      <td>0</td>\n",
              "      <td>0</td>\n",
              "      <td>0</td>\n",
              "      <td>0</td>\n",
              "      <td>0</td>\n",
              "      <td>0</td>\n",
              "      <td>0</td>\n",
              "      <td>0</td>\n",
              "      <td>0</td>\n",
              "      <td>0</td>\n",
              "      <td>0</td>\n",
              "      <td>0</td>\n",
              "      <td>0</td>\n",
              "      <td>0</td>\n",
              "      <td>0</td>\n",
              "      <td>0</td>\n",
              "      <td>0</td>\n",
              "      <td>0</td>\n",
              "      <td>0</td>\n",
              "      <td>0</td>\n",
              "    </tr>\n",
              "    <tr>\n",
              "      <th>Soft Drinks</th>\n",
              "      <td>6</td>\n",
              "      <td>7</td>\n",
              "      <td>8</td>\n",
              "      <td>3</td>\n",
              "      <td>5</td>\n",
              "      <td>4</td>\n",
              "      <td>6</td>\n",
              "      <td>7</td>\n",
              "      <td>6</td>\n",
              "      <td>4</td>\n",
              "      <td>4</td>\n",
              "      <td>2</td>\n",
              "      <td>7</td>\n",
              "      <td>0</td>\n",
              "      <td>5</td>\n",
              "      <td>3</td>\n",
              "      <td>5</td>\n",
              "      <td>7</td>\n",
              "      <td>7</td>\n",
              "      <td>0</td>\n",
              "      <td>7</td>\n",
              "      <td>8</td>\n",
              "      <td>0</td>\n",
              "      <td>7</td>\n",
              "      <td>4</td>\n",
              "      <td>6</td>\n",
              "      <td>2</td>\n",
              "      <td>0</td>\n",
              "      <td>6</td>\n",
              "      <td>5</td>\n",
              "      <td>0</td>\n",
              "      <td>5</td>\n",
              "      <td>0</td>\n",
              "      <td>5</td>\n",
              "      <td>7</td>\n",
              "      <td>9</td>\n",
              "      <td>6</td>\n",
              "      <td>8</td>\n",
              "      <td>0</td>\n",
              "      <td>6</td>\n",
              "      <td>...</td>\n",
              "      <td>0</td>\n",
              "      <td>0</td>\n",
              "      <td>0</td>\n",
              "      <td>0</td>\n",
              "      <td>0</td>\n",
              "      <td>0</td>\n",
              "      <td>0</td>\n",
              "      <td>0</td>\n",
              "      <td>0</td>\n",
              "      <td>0</td>\n",
              "      <td>0</td>\n",
              "      <td>0</td>\n",
              "      <td>0</td>\n",
              "      <td>0</td>\n",
              "      <td>0</td>\n",
              "      <td>0</td>\n",
              "      <td>0</td>\n",
              "      <td>0</td>\n",
              "      <td>0</td>\n",
              "      <td>0</td>\n",
              "      <td>0</td>\n",
              "      <td>0</td>\n",
              "      <td>0</td>\n",
              "      <td>0</td>\n",
              "      <td>0</td>\n",
              "      <td>0</td>\n",
              "      <td>0</td>\n",
              "      <td>0</td>\n",
              "      <td>0</td>\n",
              "      <td>0</td>\n",
              "      <td>0</td>\n",
              "      <td>0</td>\n",
              "      <td>0</td>\n",
              "      <td>0</td>\n",
              "      <td>0</td>\n",
              "      <td>0</td>\n",
              "      <td>0</td>\n",
              "      <td>0</td>\n",
              "      <td>0</td>\n",
              "      <td>0</td>\n",
              "    </tr>\n",
              "    <tr>\n",
              "      <th>Starchy Foods</th>\n",
              "      <td>0</td>\n",
              "      <td>0</td>\n",
              "      <td>0</td>\n",
              "      <td>0</td>\n",
              "      <td>0</td>\n",
              "      <td>0</td>\n",
              "      <td>0</td>\n",
              "      <td>0</td>\n",
              "      <td>0</td>\n",
              "      <td>0</td>\n",
              "      <td>0</td>\n",
              "      <td>0</td>\n",
              "      <td>0</td>\n",
              "      <td>0</td>\n",
              "      <td>0</td>\n",
              "      <td>0</td>\n",
              "      <td>0</td>\n",
              "      <td>0</td>\n",
              "      <td>0</td>\n",
              "      <td>0</td>\n",
              "      <td>0</td>\n",
              "      <td>0</td>\n",
              "      <td>0</td>\n",
              "      <td>0</td>\n",
              "      <td>0</td>\n",
              "      <td>0</td>\n",
              "      <td>0</td>\n",
              "      <td>0</td>\n",
              "      <td>0</td>\n",
              "      <td>0</td>\n",
              "      <td>0</td>\n",
              "      <td>0</td>\n",
              "      <td>0</td>\n",
              "      <td>0</td>\n",
              "      <td>0</td>\n",
              "      <td>0</td>\n",
              "      <td>0</td>\n",
              "      <td>0</td>\n",
              "      <td>0</td>\n",
              "      <td>0</td>\n",
              "      <td>...</td>\n",
              "      <td>0</td>\n",
              "      <td>0</td>\n",
              "      <td>0</td>\n",
              "      <td>0</td>\n",
              "      <td>0</td>\n",
              "      <td>0</td>\n",
              "      <td>0</td>\n",
              "      <td>0</td>\n",
              "      <td>0</td>\n",
              "      <td>0</td>\n",
              "      <td>0</td>\n",
              "      <td>0</td>\n",
              "      <td>0</td>\n",
              "      <td>0</td>\n",
              "      <td>0</td>\n",
              "      <td>0</td>\n",
              "      <td>0</td>\n",
              "      <td>0</td>\n",
              "      <td>0</td>\n",
              "      <td>0</td>\n",
              "      <td>0</td>\n",
              "      <td>0</td>\n",
              "      <td>0</td>\n",
              "      <td>0</td>\n",
              "      <td>0</td>\n",
              "      <td>0</td>\n",
              "      <td>0</td>\n",
              "      <td>0</td>\n",
              "      <td>0</td>\n",
              "      <td>0</td>\n",
              "      <td>0</td>\n",
              "      <td>0</td>\n",
              "      <td>0</td>\n",
              "      <td>0</td>\n",
              "      <td>0</td>\n",
              "      <td>0</td>\n",
              "      <td>0</td>\n",
              "      <td>0</td>\n",
              "      <td>0</td>\n",
              "      <td>0</td>\n",
              "    </tr>\n",
              "  </tbody>\n",
              "</table>\n",
              "<p>16 rows × 1559 columns</p>\n",
              "</div>"
            ],
            "text/plain": [
              "Item_Identifier        DRA12  DRA24  DRA59  DRB01  ...  NCZ41  NCZ42  NCZ53  NCZ54\n",
              "Item_Type                                          ...                            \n",
              "Baking Goods               0      0      0      0  ...      0      0      0      0\n",
              "Breads                     0      0      0      0  ...      0      0      0      0\n",
              "Breakfast                  0      0      0      0  ...      0      0      0      0\n",
              "Canned                     0      0      0      0  ...      0      0      0      0\n",
              "Dairy                      0      0      0      0  ...      0      0      0      0\n",
              "Frozen Foods               0      0      0      0  ...      0      0      0      0\n",
              "Fruits and Vegetables      0      0      0      0  ...      0      0      0      0\n",
              "Hard Drinks                0      0      0      0  ...      0      0      0      0\n",
              "Health and Hygiene         0      0      0      0  ...      5      0      5      0\n",
              "Household                  0      0      0      0  ...      0      5      0      7\n",
              "Meat                       0      0      0      0  ...      0      0      0      0\n",
              "Others                     0      0      0      0  ...      0      0      0      0\n",
              "Seafood                    0      0      0      0  ...      0      0      0      0\n",
              "Snack Foods                0      0      0      0  ...      0      0      0      0\n",
              "Soft Drinks                6      7      8      3  ...      0      0      0      0\n",
              "Starchy Foods              0      0      0      0  ...      0      0      0      0\n",
              "\n",
              "[16 rows x 1559 columns]"
            ]
          },
          "metadata": {},
          "execution_count": 99
        }
      ]
    },
    {
      "cell_type": "code",
      "metadata": {
        "id": "w-MwjRtDhwub"
      },
      "source": [
        ""
      ],
      "execution_count": 99,
      "outputs": []
    },
    {
      "cell_type": "code",
      "metadata": {
        "id": "S17yHMrkgJem"
      },
      "source": [
        "#sns.histplot(data=sales_pred, x='Item_Identifier')"
      ],
      "execution_count": 100,
      "outputs": []
    },
    {
      "cell_type": "code",
      "metadata": {
        "id": "JowaU5sPgN2y"
      },
      "source": [
        ""
      ],
      "execution_count": 100,
      "outputs": []
    },
    {
      "cell_type": "code",
      "metadata": {
        "colab": {
          "base_uri": "https://localhost:8080/"
        },
        "id": "IYwZ276VdegZ",
        "outputId": "cb6fa9ff-2e78-4d4c-d469-4cfdf7fe7d56"
      },
      "source": [
        "#transform Outlet ID, Outlet Type, Outlet location type, Item ID, Item Fat Content, Outlet_size\n",
        "#I think Item Type and Item ID will correlate highly - may be able to simply use weight in the regression?\n",
        "\n",
        "#sales_pred_total = pd.get_dummies(sales_pred, columns = ['Item_Identifier','Item_Fat_Content','Item_Type','Outlet_Identifier','Outlet_Size','Outlet_Location_Type','Outlet_Type'], drop_first = True)\n",
        "sales_pred = pd.get_dummies(sales_pred, columns = ['Item_Fat_Content','Item_Type','Outlet_Identifier','Outlet_Size','Outlet_Location_Type','Outlet_Type'], drop_first = True)\n",
        "print(sales_pred.info())"
      ],
      "execution_count": 101,
      "outputs": [
        {
          "output_type": "stream",
          "name": "stdout",
          "text": [
            "<class 'pandas.core.frame.DataFrame'>\n",
            "Int64Index: 8523 entries, 0 to 8522\n",
            "Data columns (total 38 columns):\n",
            " #   Column                           Non-Null Count  Dtype  \n",
            "---  ------                           --------------  -----  \n",
            " 0   Item_Identifier                  8523 non-null   object \n",
            " 1   Item_Weight                      8523 non-null   float64\n",
            " 2   Item_Visibility                  8523 non-null   float64\n",
            " 3   Item_MRP                         8523 non-null   float64\n",
            " 4   Outlet_Establishment_Year        8523 non-null   int64  \n",
            " 5   Item_Outlet_Sales                8523 non-null   float64\n",
            " 6   Item_Fat_Content_Regular         8523 non-null   uint8  \n",
            " 7   Item_Type_Breads                 8523 non-null   uint8  \n",
            " 8   Item_Type_Breakfast              8523 non-null   uint8  \n",
            " 9   Item_Type_Canned                 8523 non-null   uint8  \n",
            " 10  Item_Type_Dairy                  8523 non-null   uint8  \n",
            " 11  Item_Type_Frozen Foods           8523 non-null   uint8  \n",
            " 12  Item_Type_Fruits and Vegetables  8523 non-null   uint8  \n",
            " 13  Item_Type_Hard Drinks            8523 non-null   uint8  \n",
            " 14  Item_Type_Health and Hygiene     8523 non-null   uint8  \n",
            " 15  Item_Type_Household              8523 non-null   uint8  \n",
            " 16  Item_Type_Meat                   8523 non-null   uint8  \n",
            " 17  Item_Type_Others                 8523 non-null   uint8  \n",
            " 18  Item_Type_Seafood                8523 non-null   uint8  \n",
            " 19  Item_Type_Snack Foods            8523 non-null   uint8  \n",
            " 20  Item_Type_Soft Drinks            8523 non-null   uint8  \n",
            " 21  Item_Type_Starchy Foods          8523 non-null   uint8  \n",
            " 22  Outlet_Identifier_OUT013         8523 non-null   uint8  \n",
            " 23  Outlet_Identifier_OUT017         8523 non-null   uint8  \n",
            " 24  Outlet_Identifier_OUT018         8523 non-null   uint8  \n",
            " 25  Outlet_Identifier_OUT019         8523 non-null   uint8  \n",
            " 26  Outlet_Identifier_OUT027         8523 non-null   uint8  \n",
            " 27  Outlet_Identifier_OUT035         8523 non-null   uint8  \n",
            " 28  Outlet_Identifier_OUT045         8523 non-null   uint8  \n",
            " 29  Outlet_Identifier_OUT046         8523 non-null   uint8  \n",
            " 30  Outlet_Identifier_OUT049         8523 non-null   uint8  \n",
            " 31  Outlet_Size_Medium               8523 non-null   uint8  \n",
            " 32  Outlet_Size_Small                8523 non-null   uint8  \n",
            " 33  Outlet_Location_Type_Tier 2      8523 non-null   uint8  \n",
            " 34  Outlet_Location_Type_Tier 3      8523 non-null   uint8  \n",
            " 35  Outlet_Type_Supermarket Type1    8523 non-null   uint8  \n",
            " 36  Outlet_Type_Supermarket Type2    8523 non-null   uint8  \n",
            " 37  Outlet_Type_Supermarket Type3    8523 non-null   uint8  \n",
            "dtypes: float64(4), int64(1), object(1), uint8(32)\n",
            "memory usage: 732.4+ KB\n",
            "None\n"
          ]
        }
      ]
    },
    {
      "cell_type": "markdown",
      "metadata": {
        "id": "jICUrad4Zsga"
      },
      "source": [
        "# Linear Regression"
      ]
    },
    {
      "cell_type": "code",
      "metadata": {
        "colab": {
          "base_uri": "https://localhost:8080/"
        },
        "id": "9gmxLF2jfwa7",
        "outputId": "0c7be4bc-6b56-44a4-ca4f-3995f67ac7f9"
      },
      "source": [
        "from sklearn.model_selection import train_test_split\n",
        "y = sales_pred['Item_Outlet_Sales']\n",
        "X = sales_pred.drop(columns = ['Item_Identifier','Item_Outlet_Sales'])\n",
        "# Train test split\n",
        "X_train, X_test, y_train, y_test = train_test_split(X, y, random_state=42)\n",
        "print(X_train.shape)\n",
        "print(X_test.shape)\n",
        "print(y_train.shape)\n",
        "print(y_test.shape)"
      ],
      "execution_count": 13,
      "outputs": [
        {
          "output_type": "stream",
          "name": "stdout",
          "text": [
            "(6392, 36)\n",
            "(2131, 36)\n",
            "(6392,)\n",
            "(2131,)\n"
          ]
        }
      ]
    },
    {
      "cell_type": "code",
      "metadata": {
        "id": "uOAVzJFegV_0"
      },
      "source": [
        "#Instatiate and Fit model\n",
        "from sklearn.linear_model import LinearRegression\n",
        "reg = LinearRegression()\n",
        "reg.fit(X_train,y_train)\n",
        "# or to predict all values on the training data\n",
        "train_preds = reg.predict(X_train)\n",
        "# predict the values in the test set\n",
        "test_preds = reg.predict(X_test)"
      ],
      "execution_count": 14,
      "outputs": []
    },
    {
      "cell_type": "code",
      "metadata": {
        "colab": {
          "base_uri": "https://localhost:8080/"
        },
        "id": "DvaA_oKJgfBy",
        "outputId": "8164323f-cf31-4a65-8936-c561207741e6"
      },
      "source": [
        "#Find R^2 (and RMSE for good measure)\n",
        "from sklearn.metrics import mean_squared_error\n",
        "import numpy as np\n",
        "train_score = reg.score(X_train, y_train)\n",
        "test_score = reg.score(X_test, y_test)\n",
        "rmse_train = np.sqrt(mean_squared_error(y_train,reg.predict(X_train)))\n",
        "rmse_test = np.sqrt(mean_squared_error(y_test,reg.predict(X_test)))\n",
        "print('Training RMSE:', rmse_train)\n",
        "print('Testing RMSE:', rmse_test)\n",
        "\n",
        "print(\"R^2 for training set: \", train_score)\n",
        "print(\"R^2 for testing set: \", test_score)"
      ],
      "execution_count": 68,
      "outputs": [
        {
          "output_type": "stream",
          "name": "stdout",
          "text": [
            "Training RMSE: 1139.1176305025365\n",
            "Testing RMSE: 1092.830326891238\n",
            "R^2 for training set:  0.5615447211671323\n",
            "R^2 for testing set:  0.5671301359922962\n"
          ]
        }
      ]
    },
    {
      "cell_type": "code",
      "metadata": {
        "id": "o3QyZBa_k6iL"
      },
      "source": [
        "RMSE_comps = []\n",
        "RMSE_comps_names = []\n",
        "R2_comps = []\n",
        "R2_comps_names = []\n",
        "\n",
        "RMSE_comps.extend([rmse_train, rmse_test])\n",
        "RMSE_comps_names.extend([\"Lin Reg Train\",\"Lin Reg Test\"])\n",
        "R2_comps.extend([train_score,test_score])\n",
        "R2_comps_names.extend([\"Lin Reg Train\",\"Lin Reg Test\"])"
      ],
      "execution_count": 69,
      "outputs": []
    },
    {
      "cell_type": "code",
      "metadata": {
        "colab": {
          "base_uri": "https://localhost:8080/"
        },
        "id": "C73AoDUDluQ4",
        "outputId": "c0735831-66ab-4892-a787-4e3853de336f"
      },
      "source": [
        "print(R2_comps)\n",
        "print(R2_comps_names)"
      ],
      "execution_count": 70,
      "outputs": [
        {
          "output_type": "stream",
          "name": "stdout",
          "text": [
            "[0.5615447211671323, 0.5671301359922962]\n",
            "['Lin Reg Train', 'Lin Reg Test']\n"
          ]
        }
      ]
    },
    {
      "cell_type": "code",
      "metadata": {
        "colab": {
          "base_uri": "https://localhost:8080/"
        },
        "id": "TWkvVeK-hPsk",
        "outputId": "f055d40a-e7a0-4781-e6b4-7a0607e42a61"
      },
      "source": [
        "reg.coef_"
      ],
      "execution_count": 16,
      "outputs": [
        {
          "output_type": "execute_result",
          "data": {
            "text/plain": [
              "array([  -1.29262227, -422.84482258,   15.72101709,  -18.73756951,\n",
              "         62.61660111,  -28.29869384,   45.02508172,   27.77118848,\n",
              "       -106.63579022,   -1.87538169,   45.61273976,   14.34738549,\n",
              "         26.78362717,    5.38544247,  -12.22601532,  -27.05926919,\n",
              "        327.74977527,  -21.90762231,  -39.19608557,   41.76796162,\n",
              "        125.92133547,  298.69082258,  256.7598849 , -504.43347728,\n",
              "        885.99595126,  293.60045789,   63.5692505 ,  671.33475107,\n",
              "       -530.4118529 ,  612.34398326, -738.26531873,  655.86053096,\n",
              "       -292.34995185,  922.7047646 ,  256.7598849 ,  885.99595126])"
            ]
          },
          "metadata": {},
          "execution_count": 16
        }
      ]
    },
    {
      "cell_type": "code",
      "metadata": {
        "colab": {
          "base_uri": "https://localhost:8080/",
          "height": 881
        },
        "id": "JZsUdQhroAXr",
        "outputId": "abd86608-6458-4c90-9989-653e8dd8e7bf"
      },
      "source": [
        "# get importance\n",
        "importance = reg.coef_\n",
        "# summarize feature importance\n",
        "for i,v in enumerate(importance):\n",
        "\tprint('Feature: %0d, Score: %.5f' % (i,v))\n",
        "# plot feature importance\n",
        "plt.bar([x for x in range(len(importance))], importance)\n",
        "plt.show()"
      ],
      "execution_count": 17,
      "outputs": [
        {
          "output_type": "stream",
          "name": "stdout",
          "text": [
            "Feature: 0, Score: -1.29262\n",
            "Feature: 1, Score: -422.84482\n",
            "Feature: 2, Score: 15.72102\n",
            "Feature: 3, Score: -18.73757\n",
            "Feature: 4, Score: 62.61660\n",
            "Feature: 5, Score: -28.29869\n",
            "Feature: 6, Score: 45.02508\n",
            "Feature: 7, Score: 27.77119\n",
            "Feature: 8, Score: -106.63579\n",
            "Feature: 9, Score: -1.87538\n",
            "Feature: 10, Score: 45.61274\n",
            "Feature: 11, Score: 14.34739\n",
            "Feature: 12, Score: 26.78363\n",
            "Feature: 13, Score: 5.38544\n",
            "Feature: 14, Score: -12.22602\n",
            "Feature: 15, Score: -27.05927\n",
            "Feature: 16, Score: 327.74978\n",
            "Feature: 17, Score: -21.90762\n",
            "Feature: 18, Score: -39.19609\n",
            "Feature: 19, Score: 41.76796\n",
            "Feature: 20, Score: 125.92134\n",
            "Feature: 21, Score: 298.69082\n",
            "Feature: 22, Score: 256.75988\n",
            "Feature: 23, Score: -504.43348\n",
            "Feature: 24, Score: 885.99595\n",
            "Feature: 25, Score: 293.60046\n",
            "Feature: 26, Score: 63.56925\n",
            "Feature: 27, Score: 671.33475\n",
            "Feature: 28, Score: -530.41185\n",
            "Feature: 29, Score: 612.34398\n",
            "Feature: 30, Score: -738.26532\n",
            "Feature: 31, Score: 655.86053\n",
            "Feature: 32, Score: -292.34995\n",
            "Feature: 33, Score: 922.70476\n",
            "Feature: 34, Score: 256.75988\n",
            "Feature: 35, Score: 885.99595\n"
          ]
        },
        {
          "output_type": "display_data",
          "data": {
            "image/png": "[encoded data removed]",
            "text/plain": [
              "<Figure size 432x288 with 1 Axes>"
            ]
          },
          "metadata": {
            "needs_background": "light"
          }
        }
      ]
    },
    {
      "cell_type": "code",
      "metadata": {
        "colab": {
          "base_uri": "https://localhost:8080/"
        },
        "id": "j3zHtUCCjqda",
        "outputId": "b12f904f-69cc-4486-9cb7-3762b5f690a7"
      },
      "source": [
        "print(X.columns)"
      ],
      "execution_count": 18,
      "outputs": [
        {
          "output_type": "stream",
          "name": "stdout",
          "text": [
            "Index(['Item_Weight', 'Item_Visibility', 'Item_MRP',\n",
            "       'Outlet_Establishment_Year', 'Item_Fat_Content_Regular',\n",
            "       'Item_Type_Breads', 'Item_Type_Breakfast', 'Item_Type_Canned',\n",
            "       'Item_Type_Dairy', 'Item_Type_Frozen Foods',\n",
            "       'Item_Type_Fruits and Vegetables', 'Item_Type_Hard Drinks',\n",
            "       'Item_Type_Health and Hygiene', 'Item_Type_Household', 'Item_Type_Meat',\n",
            "       'Item_Type_Others', 'Item_Type_Seafood', 'Item_Type_Snack Foods',\n",
            "       'Item_Type_Soft Drinks', 'Item_Type_Starchy Foods',\n",
            "       'Outlet_Identifier_OUT013', 'Outlet_Identifier_OUT017',\n",
            "       'Outlet_Identifier_OUT018', 'Outlet_Identifier_OUT019',\n",
            "       'Outlet_Identifier_OUT027', 'Outlet_Identifier_OUT035',\n",
            "       'Outlet_Identifier_OUT045', 'Outlet_Identifier_OUT046',\n",
            "       'Outlet_Identifier_OUT049', 'Outlet_Size_Medium', 'Outlet_Size_Small',\n",
            "       'Outlet_Location_Type_Tier 2', 'Outlet_Location_Type_Tier 3',\n",
            "       'Outlet_Type_Supermarket Type1', 'Outlet_Type_Supermarket Type2',\n",
            "       'Outlet_Type_Supermarket Type3'],\n",
            "      dtype='object')\n"
          ]
        }
      ]
    },
    {
      "cell_type": "code",
      "metadata": {
        "colab": {
          "base_uri": "https://localhost:8080/"
        },
        "id": "UujN5eLRirnJ",
        "outputId": "87818faa-acf5-41c5-b12d-96fc12c9ea72"
      },
      "source": [
        "reg.intercept_"
      ],
      "execution_count": 19,
      "outputs": [
        {
          "output_type": "execute_result",
          "data": {
            "text/plain": [
              "36619.37299699216"
            ]
          },
          "metadata": {},
          "execution_count": 19
        }
      ]
    },
    {
      "cell_type": "code",
      "metadata": {
        "colab": {
          "base_uri": "https://localhost:8080/"
        },
        "id": "tpi7MxWYj4-h",
        "outputId": "c5e2ebc2-3672-4eee-ef62-00ee381d1ec8"
      },
      "source": [
        "reg.coef_\n"
      ],
      "execution_count": 20,
      "outputs": [
        {
          "output_type": "execute_result",
          "data": {
            "text/plain": [
              "array([  -1.29262227, -422.84482258,   15.72101709,  -18.73756951,\n",
              "         62.61660111,  -28.29869384,   45.02508172,   27.77118848,\n",
              "       -106.63579022,   -1.87538169,   45.61273976,   14.34738549,\n",
              "         26.78362717,    5.38544247,  -12.22601532,  -27.05926919,\n",
              "        327.74977527,  -21.90762231,  -39.19608557,   41.76796162,\n",
              "        125.92133547,  298.69082258,  256.7598849 , -504.43347728,\n",
              "        885.99595126,  293.60045789,   63.5692505 ,  671.33475107,\n",
              "       -530.4118529 ,  612.34398326, -738.26531873,  655.86053096,\n",
              "       -292.34995185,  922.7047646 ,  256.7598849 ,  885.99595126])"
            ]
          },
          "metadata": {},
          "execution_count": 20
        }
      ]
    },
    {
      "cell_type": "markdown",
      "metadata": {
        "id": "wHeYmVSpmMn2"
      },
      "source": [
        "       **Variables with coefficients > 0:**\n",
        "       'Item_MRP'\n",
        "       'Item_Fat_Content_Regular'\n",
        "       'Item_Type_Breakfast'\n",
        "       'Item_Type_Canned',\n",
        "       'Item_Type_Fruits and Vegetables'\n",
        "       'Item_Type_Hard Drinks',\n",
        "       'Item_Type_Health and Hygiene'\n",
        "       'Item_Type_Household', \n",
        "       'Item_Type_Seafood'\n",
        "       'Item_Type_Starchy Foods'\n",
        "       'Outlet_Identifier_OUT013', 'Outlet_Identifier_OUT017',\n",
        "       'Outlet_Identifier_OUT018', 'Outlet_Identifier_OUT035',\n",
        "       'Outlet_Identifier_OUT045', 'Outlet_Identifier_OUT046',\n",
        "       'Outlet_Size_Medium','Outlet_Location_Type_Tier 2', \n",
        "       'Outlet_Type_Supermarket Type1', 'Outlet_Type_Supermarket Type2',\n",
        "       'Outlet_Type_Supermarket Type3'"
      ]
    },
    {
      "cell_type": "markdown",
      "metadata": {
        "id": "SNhwzzBb6VZO"
      },
      "source": [
        "# Decision Tree"
      ]
    },
    {
      "cell_type": "code",
      "metadata": {
        "colab": {
          "base_uri": "https://localhost:8080/"
        },
        "id": "jbajyr7C4jwF",
        "outputId": "7c72d4f7-0d9d-4429-8bf2-a7c66c76c8cf"
      },
      "source": [
        "from sklearn.tree import DecisionTreeRegressor\n",
        "from sklearn.ensemble import BaggingRegressor\n",
        "from sklearn.ensemble import RandomForestRegressor\n",
        "from sklearn.tree import DecisionTreeClassifier\n",
        "\n",
        "\n",
        "#Dec_Tree\n",
        "#assign train test split sets - model validation\n",
        "X_train, X_test, y_train, y_test = train_test_split(X, y, random_state=42)\n",
        "\n",
        "dec_tree = DecisionTreeRegressor(random_state = 42)\n",
        "#Fit model\n",
        "dec_tree.fit(X_train, y_train)\n",
        "\n",
        "train_preds = dec_tree.predict(X_train)\n",
        "test_preds = dec_tree.predict(X_test)\n",
        "# evaluate the model\n",
        "train_score = dec_tree.score(X_train, y_train)\n",
        "test_score = dec_tree.score(X_test, y_test)\n",
        "print(train_score)\n",
        "print(test_score)\n",
        "\n",
        "# What was the depth of our default tree?\n",
        "print(\"the depth of the decision tree model is: \", dec_tree.get_depth())\n",
        "# How many leaf nodes?\n",
        "print(\"number of leaf nodes: \", dec_tree.get_n_leaves())\n"
      ],
      "execution_count": 46,
      "outputs": [
        {
          "output_type": "stream",
          "name": "stdout",
          "text": [
            "1.0\n",
            "0.1495176480850593\n",
            "the depth of the decision tree model is:  45\n",
            "number of leaf nodes:  6239\n"
          ]
        }
      ]
    },
    {
      "cell_type": "markdown",
      "metadata": {
        "id": "QSWEnnN_N6PS"
      },
      "source": [
        "Vizualize Tree:\n"
      ]
    },
    {
      "cell_type": "code",
      "metadata": {
        "id": "QNvrmYck5e0f"
      },
      "source": [
        "# List of values to try for max_depth:\n",
        "max_depth_range = list(range(2, 36)) # will try every value between 2 and 36\n",
        "# List to store the score for each value of max_depth:\n",
        "r2 = []\n",
        "for depth in max_depth_range:\n",
        "    dec_tree = DecisionTreeRegressor(max_depth = depth, \n",
        "                             random_state = 42)\n",
        "    dec_tree.fit(X_train, y_train)\n",
        "    score = dec_tree.score(X_test, y_test)\n",
        "    r2.append(score)\n"
      ],
      "execution_count": 22,
      "outputs": []
    },
    {
      "cell_type": "code",
      "metadata": {
        "colab": {
          "base_uri": "https://localhost:8080/",
          "height": 281
        },
        "id": "cKbxdggY5gPm",
        "outputId": "6647c68f-0566-408f-9ca4-3ca70cb7f0a9"
      },
      "source": [
        "import matplotlib.pyplot as plt\n",
        "plt.plot(max_depth_range, r2)\n",
        "plt.xlabel('max_depth')\n",
        "plt.ylabel('R2');\n"
      ],
      "execution_count": 23,
      "outputs": [
        {
          "output_type": "display_data",
          "data": {
            "image/png": "[encoded data removed]",
            "text/plain": [
              "<Figure size 432x288 with 1 Axes>"
            ]
          },
          "metadata": {
            "needs_background": "light"
          }
        }
      ]
    },
    {
      "cell_type": "code",
      "metadata": {
        "colab": {
          "base_uri": "https://localhost:8080/"
        },
        "id": "U5ybK_DU5_AW",
        "outputId": "029e19e9-6a1e-4ebb-997c-13e86f220490"
      },
      "source": [
        "# Let's run the model with our optimized value for max_depth\n",
        "dec_tree_5 = DecisionTreeRegressor(max_depth = 5, random_state = 42)\n",
        "dec_tree_5.fit(X_train, y_train)\n",
        "train_5_score = dec_tree_5.score(X_train, y_train)\n",
        "test_5_score = dec_tree_5.score(X_test, y_test)\n",
        "print(f'R2 for the training set:, {train_5_score}')\n",
        "print(f'R2 for the test set:, {test_5_score}')\n",
        "print(\"the depth of the decision tree model is: \", dec_tree_5.get_depth())\n",
        "print(\"number of leaf nodes: \", dec_tree_5.get_n_leaves())"
      ],
      "execution_count": 49,
      "outputs": [
        {
          "output_type": "stream",
          "name": "stdout",
          "text": [
            "R2 for the training set:, 0.6120592876176956\n",
            "R2 for the test set:, 0.5852963972683265\n",
            "the depth of the decision tree model is:  5\n",
            "number of leaf nodes:  32\n"
          ]
        }
      ]
    },
    {
      "cell_type": "code",
      "metadata": {
        "colab": {
          "base_uri": "https://localhost:8080/",
          "height": 35
        },
        "id": "M4UJOllISl_u",
        "outputId": "f5e22e74-eba0-467d-ea03-1d8a82d69cad"
      },
      "source": [
        "#From Coding Dojo on how to create visuals of decision trees\n",
        "from sklearn.tree import export_graphviz\n",
        "import graphviz\n",
        "data1 = export_graphviz(dec_tree_5, filled=True)\n",
        "graph = graphviz.Source(data1)\n",
        "graph.render(\"tree\") #create tree.pdf"
      ],
      "execution_count": 25,
      "outputs": [
        {
          "output_type": "execute_result",
          "data": {
            "application/vnd.google.colaboratory.intrinsic+json": {
              "type": "string"
            },
            "text/plain": [
              "'tree.pdf'"
            ]
          },
          "metadata": {},
          "execution_count": 25
        }
      ]
    },
    {
      "cell_type": "markdown",
      "metadata": {
        "id": "xduc-nLRS8Z3"
      },
      "source": [
        "![image_2021-10-10_152121.png](data:image/png;base64,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)"
      ]
    },
    {
      "cell_type": "code",
      "metadata": {
        "id": "abwyrjJamnXx"
      },
      "source": [
        "train_preds = dec_tree_5.predict(X_train)\n",
        "test_preds = dec_tree_5.predict(X_test)"
      ],
      "execution_count": 71,
      "outputs": []
    },
    {
      "cell_type": "code",
      "metadata": {
        "colab": {
          "base_uri": "https://localhost:8080/"
        },
        "id": "QjjdL2rwOfd-",
        "outputId": "0df4a638-1010-48e5-f941-b9681e55ef43"
      },
      "source": [
        "#calculate RMSE\n",
        "import numpy as np\n",
        "rmse_training = np.sqrt((np.sum((train_preds-y_train)**2)/len(y_train)))\n",
        "rmse_test = np.sqrt((np.sum((test_preds-y_test)**2)/len(y_test)))\n",
        "print(f'RMSE for training set is: {rmse_training: .3f}')\n",
        "print(f'RMSE for testing set is: {rmse_test: .2f}')\n",
        "#print(rmse_training)\n",
        "#print(np.sqrt(mean_squared_error(y_train,train_preds)))"
      ],
      "execution_count": 72,
      "outputs": [
        {
          "output_type": "stream",
          "name": "stdout",
          "text": [
            "RMSE for training set is:  1071.491\n",
            "RMSE for testing set is:  1069.65\n"
          ]
        }
      ]
    },
    {
      "cell_type": "code",
      "metadata": {
        "id": "1fkyTjjCl-1d"
      },
      "source": [
        "RMSE_comps.extend([rmse_training, rmse_test])\n",
        "RMSE_comps_names.extend([\"Decision Tree Reg Train\",\"Decision Tree Reg Test\"])\n",
        "R2_comps.extend([train_5_score,test_5_score])\n",
        "R2_comps_names.extend([\"Decision Tree Reg Train\",\"Decision Tree Reg Test\"])"
      ],
      "execution_count": 73,
      "outputs": []
    },
    {
      "cell_type": "markdown",
      "metadata": {
        "id": "_FwI4jx36aZq"
      },
      "source": [
        "# Bagged Regression"
      ]
    },
    {
      "cell_type": "code",
      "metadata": {
        "id": "AvxiZBva6dt0"
      },
      "source": [
        "#bagging regressor\n",
        "bagreg = BaggingRegressor(random_state = 42)\n"
      ],
      "execution_count": 74,
      "outputs": []
    },
    {
      "cell_type": "code",
      "metadata": {
        "colab": {
          "base_uri": "https://localhost:8080/"
        },
        "id": "MO3xWNw_7peC",
        "outputId": "4527a5fb-60da-459d-8d42-04994c331305"
      },
      "source": [
        "bagreg.fit(X_train, y_train)\n",
        "\n",
        "bagreg.predict(X_test)\n",
        "bagreg_train_score = bagreg.score(X_train, y_train)\n",
        "bagreg_test_score = bagreg.score(X_test, y_test)\n",
        "\n",
        "print(\"R^2 for training set: \", bagreg_train_score)\n",
        "print(\"R^2 for testing set: \", bagreg_test_score)"
      ],
      "execution_count": 75,
      "outputs": [
        {
          "output_type": "stream",
          "name": "stdout",
          "text": [
            "R^2 for training set:  0.9175873928070548\n",
            "R^2 for testing set:  0.5237995220131058\n"
          ]
        }
      ]
    },
    {
      "cell_type": "code",
      "metadata": {
        "id": "6zYoKoA3UX6s"
      },
      "source": [
        "test_preds = bagreg.predict(X_test)\n",
        "train_preds = bagreg.predict(X_train)"
      ],
      "execution_count": 76,
      "outputs": []
    },
    {
      "cell_type": "code",
      "metadata": {
        "colab": {
          "base_uri": "https://localhost:8080/"
        },
        "id": "he7NekgxTiMF",
        "outputId": "d64c606b-e283-4f6d-aadc-780f1c92b076"
      },
      "source": [
        "#bagreg RMSE\n",
        "bg_rmse_training = np.sqrt((np.sum((train_preds-y_train)**2)/len(y_train)))\n",
        "bg_rmse_test = np.sqrt((np.sum((test_preds-y_test)**2)/len(y_test)))\n",
        "print(f'RMSE for training set is: {bg_rmse_training: .3f}')\n",
        "print(f'RMSE for testing set is: {bg_rmse_test: .2f}')\n",
        "#print(rmse_training)\n",
        "#print(np.sqrt(mean_squared_error(y_train,train_preds)))"
      ],
      "execution_count": 77,
      "outputs": [
        {
          "output_type": "stream",
          "name": "stdout",
          "text": [
            "RMSE for training set is:  493.859\n",
            "RMSE for testing set is:  1146.22\n"
          ]
        }
      ]
    },
    {
      "cell_type": "code",
      "metadata": {
        "id": "qWYurzNam_cZ"
      },
      "source": [
        "RMSE_comps.extend([bg_rmse_training, bg_rmse_test])\n",
        "RMSE_comps_names.extend([\"Bagged Tree Train\",\"Bagged Tree Test\"])\n",
        "R2_comps.extend([bagreg_train_score,bagreg_test_score])\n",
        "R2_comps_names.extend([\"Bagged Tree Train\",\"Bagged Tree Test\"])"
      ],
      "execution_count": 78,
      "outputs": []
    },
    {
      "cell_type": "markdown",
      "metadata": {
        "id": "YF9MFn2i7kV-"
      },
      "source": [
        "# Random Forest"
      ]
    },
    {
      "cell_type": "code",
      "metadata": {
        "colab": {
          "base_uri": "https://localhost:8080/"
        },
        "id": "zQm1QgMA7k0L",
        "outputId": "bf5c5bf0-d5a9-4707-d97a-43eaf35dd51e"
      },
      "source": [
        "#random forest = rf\n",
        "rf = RandomForestRegressor(random_state = 42)\n",
        "rf.fit(X_train, y_train)\n",
        "\n",
        "rf.predict(X_test)\n",
        "rf_train_score = rf.score(X_train, y_train)\n",
        "rf_test_score = rf.score(X_test, y_test)\n",
        "print(\"R^2 for training set: \", rf_train_score)\n",
        "print(\"R^2 for testing set: \", rf_test_score)"
      ],
      "execution_count": 79,
      "outputs": [
        {
          "output_type": "stream",
          "name": "stdout",
          "text": [
            "R^2 for training set:  0.93780943072032\n",
            "R^2 for testing set:  0.5536440770498101\n"
          ]
        }
      ]
    },
    {
      "cell_type": "code",
      "metadata": {
        "id": "3GAr1Ow9U9Gk"
      },
      "source": [
        "test_preds = rf.predict(X_test)\n",
        "train_preds = rf.predict(X_train)"
      ],
      "execution_count": 80,
      "outputs": []
    },
    {
      "cell_type": "code",
      "metadata": {
        "colab": {
          "base_uri": "https://localhost:8080/"
        },
        "id": "KXwB45p2VA8p",
        "outputId": "0566ab18-0b84-4c83-b1e9-a056ad6dd122"
      },
      "source": [
        "rf_rmse_training = np.sqrt((np.sum((train_preds-y_train)**2)/len(y_train)))\n",
        "rf_rmse_test = np.sqrt((np.sum((test_preds-y_test)**2)/len(y_test)))\n",
        "print(f'RMSE for training set is: {rf_rmse_training: .3f}')\n",
        "print(f'RMSE for testing set is: {rf_rmse_test: .2f}')"
      ],
      "execution_count": 81,
      "outputs": [
        {
          "output_type": "stream",
          "name": "stdout",
          "text": [
            "RMSE for training set is:  429.011\n",
            "RMSE for testing set is:  1109.72\n"
          ]
        }
      ]
    },
    {
      "cell_type": "code",
      "metadata": {
        "id": "uEUz6kqBV296"
      },
      "source": [
        "n_trees = list(range(100,500,50))\n",
        "rf2 = []\n",
        "rf2_train = []\n",
        "\n",
        "for i in n_trees:\n",
        "  rff = RandomForestRegressor(random_state = 42, n_estimators = i)\n",
        "  rff.fit(X_train, y_train)\n",
        "\n",
        "  rff.predict(X_test)\n",
        "  rf2_train.append(rff.score(X_train, y_train))\n",
        "  rf2.append(rff.score(X_test, y_test))"
      ],
      "execution_count": 34,
      "outputs": []
    },
    {
      "cell_type": "code",
      "metadata": {
        "colab": {
          "base_uri": "https://localhost:8080/",
          "height": 281
        },
        "id": "6xvVRE6-V9ZB",
        "outputId": "a59bfad0-746c-4404-f1e5-55640bb88ae1"
      },
      "source": [
        "plt.plot(n_trees, rf2)\n",
        "plt.xlabel('# trees')\n",
        "plt.ylabel('R2');"
      ],
      "execution_count": 35,
      "outputs": [
        {
          "output_type": "display_data",
          "data": {
            "image/png": "[encoded data removed]",
            "text/plain": [
              "<Figure size 432x288 with 1 Axes>"
            ]
          },
          "metadata": {
            "needs_background": "light"
          }
        }
      ]
    },
    {
      "cell_type": "code",
      "metadata": {
        "id": "TRaDeqQoW23r"
      },
      "source": [
        "depth_rf = list(range(1,50))\n",
        "rf2 = []\n",
        "rf2_train = []\n",
        "\n",
        "for i in depth_rf:\n",
        "  rff = RandomForestRegressor(random_state = 42, n_estimators = 500, max_depth = i)\n",
        "  rff.fit(X_train, y_train)\n",
        "\n",
        "  rff.predict(X_test)\n",
        "  rf2_train.append(rff.score(X_train, y_train))\n",
        "  rf2.append(rff.score(X_test, y_test))"
      ],
      "execution_count": 36,
      "outputs": []
    },
    {
      "cell_type": "code",
      "metadata": {
        "colab": {
          "base_uri": "https://localhost:8080/",
          "height": 279
        },
        "id": "3CVRZ4ghbMnQ",
        "outputId": "98ab5127-3ee9-45e4-f628-02eaab8e5252"
      },
      "source": [
        "plt.plot(depth_rf, rf2_train)\n",
        "plt.xlabel('max depth')\n",
        "plt.ylabel('R2');"
      ],
      "execution_count": 37,
      "outputs": [
        {
          "output_type": "display_data",
          "data": {
            "image/png": "[encoded data removed]",
            "text/plain": [
              "<Figure size 432x288 with 1 Axes>"
            ]
          },
          "metadata": {
            "needs_background": "light"
          }
        }
      ]
    },
    {
      "cell_type": "code",
      "metadata": {
        "colab": {
          "base_uri": "https://localhost:8080/",
          "height": 279
        },
        "id": "z2MeJmMrbRGT",
        "outputId": "ef38a7f4-5a33-4c4a-a363-4dc36356b610"
      },
      "source": [
        "plt.plot(depth_rf, rf2)\n",
        "plt.xlabel('max depth')\n",
        "plt.ylabel('R2');"
      ],
      "execution_count": 38,
      "outputs": [
        {
          "output_type": "display_data",
          "data": {
            "image/png": "[encoded data removed]",
            "text/plain": [
              "<Figure size 432x288 with 1 Axes>"
            ]
          },
          "metadata": {
            "needs_background": "light"
          }
        }
      ]
    },
    {
      "cell_type": "code",
      "metadata": {
        "colab": {
          "base_uri": "https://localhost:8080/"
        },
        "id": "P9RJpzl584Ex",
        "outputId": "ed2f0a4d-9c3f-4064-f3ad-9367a3041b4c"
      },
      "source": [
        "rf_6 = RandomForestRegressor(max_depth = 6, n_estimators = 500, random_state = 42)\n",
        "rf_6.fit(X_train, y_train)\n",
        "rf_6_train_score = rf_6.score(X_train, y_train)\n",
        "rf_6_test_score = rf_6.score(X_test, y_test)\n",
        "print(rf_6_train_score)\n",
        "print(rf_6_test_score)\n",
        "\n"
      ],
      "execution_count": 82,
      "outputs": [
        {
          "output_type": "stream",
          "name": "stdout",
          "text": [
            "0.637718707822801\n",
            "0.6041396640117467\n"
          ]
        }
      ]
    },
    {
      "cell_type": "code",
      "metadata": {
        "id": "vdn2MYavVRBU"
      },
      "source": [
        "test_preds = rf_6.predict(X_test)\n",
        "train_preds = rf_6.predict(X_train)"
      ],
      "execution_count": 83,
      "outputs": []
    },
    {
      "cell_type": "code",
      "metadata": {
        "id": "b8E6-LOS-DZx",
        "colab": {
          "base_uri": "https://localhost:8080/"
        },
        "outputId": "58c37901-8a1c-4d62-bf25-1b4821c0b5d4"
      },
      "source": [
        "rf_rmse_training = np.sqrt((np.sum((train_preds-y_train)**2)/len(y_train)))\n",
        "rf_rmse_test = np.sqrt((np.sum((test_preds-y_test)**2)/len(y_test)))\n",
        "print(f'RMSE for training set is: {rf_rmse_training: .3f}')\n",
        "print(f'RMSE for testing set is: {rf_rmse_test: .2f}')"
      ],
      "execution_count": 84,
      "outputs": [
        {
          "output_type": "stream",
          "name": "stdout",
          "text": [
            "RMSE for training set is:  1035.449\n",
            "RMSE for testing set is:  1045.07\n"
          ]
        }
      ]
    },
    {
      "cell_type": "code",
      "metadata": {
        "id": "BYU9aVePnZXv"
      },
      "source": [
        "RMSE_comps.extend([rf_rmse_training, rf_rmse_test])\n",
        "RMSE_comps_names.extend([\"RF Train\",\"RF Test\"])\n",
        "R2_comps.extend([rf_6_train_score,rf_6_test_score])\n",
        "R2_comps_names.extend([\"RF Train\",\"RF Test\"])"
      ],
      "execution_count": 85,
      "outputs": []
    },
    {
      "cell_type": "markdown",
      "metadata": {
        "id": "rM6TYF0en6Ps"
      },
      "source": [
        "# Reg Viz"
      ]
    },
    {
      "cell_type": "code",
      "metadata": {
        "id": "0l3VyaTXolF-"
      },
      "source": [
        "Regs = pd.DataFrame({'Model': RMSE_comps_names, 'RMSE': RMSE_comps, 'R2':R2_comps})"
      ],
      "execution_count": 86,
      "outputs": []
    },
    {
      "cell_type": "code",
      "metadata": {
        "colab": {
          "base_uri": "https://localhost:8080/"
        },
        "id": "FZPqqZpdpFoE",
        "outputId": "c86d5e73-2161-48d7-cd01-62bc3251b2a2"
      },
      "source": [
        "print(Regs)"
      ],
      "execution_count": 87,
      "outputs": [
        {
          "output_type": "stream",
          "name": "stdout",
          "text": [
            "                     Model         RMSE        R2\n",
            "0            Lin Reg Train  1139.117631  0.561545\n",
            "1             Lin Reg Test  1092.830327  0.567130\n",
            "2  Decision Tree Reg Train  1071.491183  0.612059\n",
            "3   Decision Tree Reg Test  1069.653131  0.585296\n",
            "4        Bagged Tree Train   493.858745  0.917587\n",
            "5         Bagged Tree Test  1146.222624  0.523800\n",
            "6                 RF Train  1035.449389  0.637719\n",
            "7                  RF Test  1045.069221  0.604140\n"
          ]
        }
      ]
    },
    {
      "cell_type": "code",
      "metadata": {
        "colab": {
          "base_uri": "https://localhost:8080/",
          "height": 320
        },
        "id": "vRaQeV_6rKpf",
        "outputId": "bcde4946-7d98-4cd3-99da-c3f882a050c9"
      },
      "source": [
        "Regs.sort_values(by = 'RMSE', inplace = True)\n",
        "\n",
        "plt.figure(figsize = (12, 5))\n",
        "plt.barh(Regs['Model'], Regs['RMSE']);"
      ],
      "execution_count": 89,
      "outputs": [
        {
          "output_type": "display_data",
          "data": {
            "image/png": "[encoded data removed]",
            "text/plain": [
              "<Figure size 864x360 with 1 Axes>"
            ]
          },
          "metadata": {
            "needs_background": "light"
          }
        }
      ]
    },
    {
      "cell_type": "code",
      "metadata": {
        "colab": {
          "base_uri": "https://localhost:8080/",
          "height": 320
        },
        "id": "veEEPi6lrLOY",
        "outputId": "b468eb4d-7086-4dcf-ec91-ffa754cc2499"
      },
      "source": [
        "Regs.sort_values(by = 'R2', inplace = True)\n",
        "\n",
        "plt.figure(figsize = (12, 5))\n",
        "plt.barh(Regs['Model'], Regs['R2']);"
      ],
      "execution_count": 90,
      "outputs": [
        {
          "output_type": "display_data",
          "data": {
            "image/png": "[encoded data removed]",
            "text/plain": [
              "<Figure size 864x360 with 1 Axes>"
            ]
          },
          "metadata": {
            "needs_background": "light"
          }
        }
      ]
    }
  ]
}