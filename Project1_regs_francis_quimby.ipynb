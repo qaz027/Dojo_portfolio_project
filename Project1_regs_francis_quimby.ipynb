{
  "nbformat": 4,
  "nbformat_minor": 0,
  "metadata": {
    "colab": {
      "name": "Project1_regs_francis_quimby.ipynb",
      "provenance": [],
      "authorship_tag": "ABX9TyP775cweVukLvjjwcqMXkhN",
      "include_colab_link": true
    },
    "kernelspec": {
      "name": "python3",
      "display_name": "Python 3"
    },
    "language_info": {
      "name": "python"
    }
  },
  "cells": [
    {
      "cell_type": "markdown",
      "metadata": {
        "id": "view-in-github",
        "colab_type": "text"
      },
      "source": [
        "<a href=\"https://colab.research.google.com/github/qaz027/Dojo_portfolio_project/blob/main/Project1_regs_francis_quimby.ipynb\" target=\"_parent\"><img src=\"https://colab.research.google.com/assets/colab-badge.svg\" alt=\"Open In Colab\"/></a>"
      ]
    },
    {
      "cell_type": "code",
      "metadata": {
        "colab": {
          "base_uri": "https://localhost:8080/"
        },
        "id": "20qI4HUzcaKh",
        "outputId": "dd2b6629-9da3-4ffe-bcf1-11956d146f4d"
      },
      "source": [
        "from google.colab import drive\n",
        "drive.mount('/content/drive')"
      ],
      "execution_count": 1,
      "outputs": [
        {
          "output_type": "stream",
          "text": [
            "Mounted at /content/drive\n"
          ],
          "name": "stdout"
        }
      ]
    },
    {
      "cell_type": "markdown",
      "metadata": {
        "id": "fgLBXmHAdMfa"
      },
      "source": [
        "    Use the data you have cleaned in previous weeks. \n",
        "    Spend time transforming your categorical variables into numbers and use dummy encoding where appropriate.\n",
        "        Here are some resources to use when dealing with categorical variables:\n",
        "            Dealing with categorical features in machine learning\n",
        "            Categorical Data\n",
        "            Here’s All you Need to Know About Encoding Categorical Data (with Python code)\n",
        "\n",
        "    Assign the \"Item_Outlet_Sales\" column as your target and the rest of the variables as your features matrix.  \n",
        "    Be sure to train test split your data set!\n",
        "    Build a linear regression model.\n",
        "    Evaluate your test set results using r2.\n",
        "    Evaluate your test set results using RMSE\n",
        "    Which features are most associated with higher predicted sales?"
      ]
    },
    {
      "cell_type": "code",
      "metadata": {
        "colab": {
          "base_uri": "https://localhost:8080/"
        },
        "id": "5_XSgI2scgY2",
        "outputId": "21138a77-ff25-430c-a459-6f3a9bba5f1b"
      },
      "source": [
        "import pandas as pd\n",
        "\n",
        "infile ='/content/drive/MyDrive/sales_predictions.csv'\n",
        "sales_pred = pd.read_csv(infile)\n",
        "\n",
        "#clean and update values \n",
        "sales_pred.sort_values(by=['Item_Identifier','Item_Weight'], inplace=True)\n",
        "sales_pred[['Item_Weight']] = sales_pred['Item_Weight'].fillna(method='pad') #backfill missing item weights\n",
        "outlet_sz_miss = sales_pred[\"Outlet_Size\"].isna()\n",
        "\n",
        "sales_pred.sort_values(by=['Outlet_Type','Outlet_Location_Type','Outlet_Size','Outlet_Identifier'], inplace = True)\n",
        "sales_pred[['Outlet_Size']]=sales_pred['Outlet_Size'].fillna(method='pad')\n",
        "sales_pred.sort_index(inplace= True)\n",
        "sales_pred.groupby([\"Outlet_Type\",\"Outlet_Location_Type\",\"Outlet_Identifier\"])[\"Outlet_Size\"].value_counts(dropna=False)\n",
        "sales_pred['Item_Fat_Content'].replace({'LF':'Low Fat', 'lf':'Low Fat', 'low fat':'Low Fat', 'reg':'Regular'}, inplace=True)\n",
        "sales_pred['Item_Fat_Content'].unique()\n",
        "\n",
        "print(sales_pred.head())\n"
      ],
      "execution_count": 2,
      "outputs": [
        {
          "output_type": "stream",
          "text": [
            "  Item_Identifier  Item_Weight  ...        Outlet_Type  Item_Outlet_Sales\n",
            "0           FDA15         9.30  ...  Supermarket Type1          3735.1380\n",
            "1           DRC01         5.92  ...  Supermarket Type2           443.4228\n",
            "2           FDN15        17.50  ...  Supermarket Type1          2097.2700\n",
            "3           FDX07        19.20  ...      Grocery Store           732.3800\n",
            "4           NCD19         8.93  ...  Supermarket Type1           994.7052\n",
            "\n",
            "[5 rows x 12 columns]\n"
          ],
          "name": "stdout"
        }
      ]
    },
    {
      "cell_type": "code",
      "metadata": {
        "colab": {
          "base_uri": "https://localhost:8080/"
        },
        "id": "b-iUltnkeDUw",
        "outputId": "f3b366b4-f928-4d8c-9f28-2792f4fcd58f"
      },
      "source": [
        "sales_pred.info()"
      ],
      "execution_count": 3,
      "outputs": [
        {
          "output_type": "stream",
          "text": [
            "<class 'pandas.core.frame.DataFrame'>\n",
            "Int64Index: 8523 entries, 0 to 8522\n",
            "Data columns (total 12 columns):\n",
            " #   Column                     Non-Null Count  Dtype  \n",
            "---  ------                     --------------  -----  \n",
            " 0   Item_Identifier            8523 non-null   object \n",
            " 1   Item_Weight                8523 non-null   float64\n",
            " 2   Item_Fat_Content           8523 non-null   object \n",
            " 3   Item_Visibility            8523 non-null   float64\n",
            " 4   Item_Type                  8523 non-null   object \n",
            " 5   Item_MRP                   8523 non-null   float64\n",
            " 6   Outlet_Identifier          8523 non-null   object \n",
            " 7   Outlet_Establishment_Year  8523 non-null   int64  \n",
            " 8   Outlet_Size                8523 non-null   object \n",
            " 9   Outlet_Location_Type       8523 non-null   object \n",
            " 10  Outlet_Type                8523 non-null   object \n",
            " 11  Item_Outlet_Sales          8523 non-null   float64\n",
            "dtypes: float64(4), int64(1), object(7)\n",
            "memory usage: 865.6+ KB\n"
          ],
          "name": "stdout"
        }
      ]
    },
    {
      "cell_type": "code",
      "metadata": {
        "colab": {
          "base_uri": "https://localhost:8080/"
        },
        "id": "yyxO7BS2d1OR",
        "outputId": "0bed9930-2e6f-4c36-c599-b45fe5e8c17c"
      },
      "source": [
        "sales_pred['Item_Identifier'].unique().shape"
      ],
      "execution_count": null,
      "outputs": [
        {
          "output_type": "execute_result",
          "data": {
            "text/plain": [
              "(1559,)"
            ]
          },
          "metadata": {},
          "execution_count": 5
        }
      ]
    },
    {
      "cell_type": "code",
      "metadata": {
        "colab": {
          "base_uri": "https://localhost:8080/"
        },
        "id": "AbQzzxJqeAwd",
        "outputId": "78492e1d-b826-49a1-d85f-1c636c8ebb87"
      },
      "source": [
        "sales_pred['Outlet_Identifier'].unique()"
      ],
      "execution_count": null,
      "outputs": [
        {
          "output_type": "execute_result",
          "data": {
            "text/plain": [
              "array(['OUT049', 'OUT018', 'OUT010', 'OUT013', 'OUT027', 'OUT045',\n",
              "       'OUT017', 'OUT046', 'OUT035', 'OUT019'], dtype=object)"
            ]
          },
          "metadata": {},
          "execution_count": 11
        }
      ]
    },
    {
      "cell_type": "code",
      "metadata": {
        "colab": {
          "base_uri": "https://localhost:8080/"
        },
        "id": "IYwZ276VdegZ",
        "outputId": "11f1732b-d2bd-4032-ebc6-5a7694de7cb8"
      },
      "source": [
        "#transform Outlet ID, Outlet Type, Outlet location type, Item ID, Item Fat Content, Outlet_size\n",
        "#I think Item Weight and Item ID will correlate highly - may be able to simply use weight in the regression?\n",
        "\n",
        "sales_pred = pd.get_dummies(sales_pred, columns = ['Item_Fat_Content','Item_Type','Outlet_Identifier','Outlet_Size','Outlet_Location_Type','Outlet_Type'], drop_first = True)\n",
        "print(sales_pred.info())"
      ],
      "execution_count": 4,
      "outputs": [
        {
          "output_type": "stream",
          "text": [
            "<class 'pandas.core.frame.DataFrame'>\n",
            "Int64Index: 8523 entries, 0 to 8522\n",
            "Data columns (total 38 columns):\n",
            " #   Column                           Non-Null Count  Dtype  \n",
            "---  ------                           --------------  -----  \n",
            " 0   Item_Identifier                  8523 non-null   object \n",
            " 1   Item_Weight                      8523 non-null   float64\n",
            " 2   Item_Visibility                  8523 non-null   float64\n",
            " 3   Item_MRP                         8523 non-null   float64\n",
            " 4   Outlet_Establishment_Year        8523 non-null   int64  \n",
            " 5   Item_Outlet_Sales                8523 non-null   float64\n",
            " 6   Item_Fat_Content_Regular         8523 non-null   uint8  \n",
            " 7   Item_Type_Breads                 8523 non-null   uint8  \n",
            " 8   Item_Type_Breakfast              8523 non-null   uint8  \n",
            " 9   Item_Type_Canned                 8523 non-null   uint8  \n",
            " 10  Item_Type_Dairy                  8523 non-null   uint8  \n",
            " 11  Item_Type_Frozen Foods           8523 non-null   uint8  \n",
            " 12  Item_Type_Fruits and Vegetables  8523 non-null   uint8  \n",
            " 13  Item_Type_Hard Drinks            8523 non-null   uint8  \n",
            " 14  Item_Type_Health and Hygiene     8523 non-null   uint8  \n",
            " 15  Item_Type_Household              8523 non-null   uint8  \n",
            " 16  Item_Type_Meat                   8523 non-null   uint8  \n",
            " 17  Item_Type_Others                 8523 non-null   uint8  \n",
            " 18  Item_Type_Seafood                8523 non-null   uint8  \n",
            " 19  Item_Type_Snack Foods            8523 non-null   uint8  \n",
            " 20  Item_Type_Soft Drinks            8523 non-null   uint8  \n",
            " 21  Item_Type_Starchy Foods          8523 non-null   uint8  \n",
            " 22  Outlet_Identifier_OUT013         8523 non-null   uint8  \n",
            " 23  Outlet_Identifier_OUT017         8523 non-null   uint8  \n",
            " 24  Outlet_Identifier_OUT018         8523 non-null   uint8  \n",
            " 25  Outlet_Identifier_OUT019         8523 non-null   uint8  \n",
            " 26  Outlet_Identifier_OUT027         8523 non-null   uint8  \n",
            " 27  Outlet_Identifier_OUT035         8523 non-null   uint8  \n",
            " 28  Outlet_Identifier_OUT045         8523 non-null   uint8  \n",
            " 29  Outlet_Identifier_OUT046         8523 non-null   uint8  \n",
            " 30  Outlet_Identifier_OUT049         8523 non-null   uint8  \n",
            " 31  Outlet_Size_Medium               8523 non-null   uint8  \n",
            " 32  Outlet_Size_Small                8523 non-null   uint8  \n",
            " 33  Outlet_Location_Type_Tier 2      8523 non-null   uint8  \n",
            " 34  Outlet_Location_Type_Tier 3      8523 non-null   uint8  \n",
            " 35  Outlet_Type_Supermarket Type1    8523 non-null   uint8  \n",
            " 36  Outlet_Type_Supermarket Type2    8523 non-null   uint8  \n",
            " 37  Outlet_Type_Supermarket Type3    8523 non-null   uint8  \n",
            "dtypes: float64(4), int64(1), object(1), uint8(32)\n",
            "memory usage: 732.4+ KB\n",
            "None\n"
          ],
          "name": "stdout"
        }
      ]
    },
    {
      "cell_type": "code",
      "metadata": {
        "colab": {
          "base_uri": "https://localhost:8080/"
        },
        "id": "9gmxLF2jfwa7",
        "outputId": "6b3934c5-d4bb-462a-f9e3-f6acdd2ec23e"
      },
      "source": [
        "from sklearn.model_selection import train_test_split\n",
        "y = sales_pred['Item_Outlet_Sales']\n",
        "X = sales_pred.drop(columns = ['Item_Identifier','Item_Outlet_Sales'])\n",
        "# Train test split\n",
        "X_train, X_test, y_train, y_test = train_test_split(X, y, random_state=42)\n",
        "print(X_train.shape)\n",
        "print(X_test.shape)\n",
        "print(y_train.shape)\n",
        "print(y_test.shape)"
      ],
      "execution_count": 5,
      "outputs": [
        {
          "output_type": "stream",
          "text": [
            "(6392, 36)\n",
            "(2131, 36)\n",
            "(6392,)\n",
            "(2131,)\n"
          ],
          "name": "stdout"
        }
      ]
    },
    {
      "cell_type": "code",
      "metadata": {
        "id": "uOAVzJFegV_0"
      },
      "source": [
        "#Instatiate and Fit model\n",
        "from sklearn.linear_model import LinearRegression\n",
        "reg = LinearRegression()\n",
        "reg.fit(X_train,y_train)\n",
        "# or to predict all values on the training data\n",
        "train_preds = reg.predict(X_train)\n",
        "# predict the values in the test set\n",
        "test_preds = reg.predict(X_test)"
      ],
      "execution_count": 6,
      "outputs": []
    },
    {
      "cell_type": "code",
      "metadata": {
        "colab": {
          "base_uri": "https://localhost:8080/"
        },
        "id": "DvaA_oKJgfBy",
        "outputId": "5164a389-4d3e-47a3-db18-3730b6ee4cd5"
      },
      "source": [
        "#Find R^2 (and RMSE for good measure)\n",
        "from sklearn.metrics import mean_squared_error\n",
        "import numpy as np\n",
        "train_score = reg.score(X_train, y_train)\n",
        "test_score = reg.score(X_test, y_test)\n",
        "rmse_train = np.sqrt(mean_squared_error(y_train,reg.predict(X_train)))\n",
        "rmse_test = np.sqrt(mean_squared_error(y_test,reg.predict(X_test)))\n",
        "print('Training RMSE:', rmse_train)\n",
        "print('Testing RMSE:', rmse_test)\n",
        "\n",
        "print(\"R^2 for training set: \", train_score)\n",
        "print(\"R^2 for testing set: \", test_score)"
      ],
      "execution_count": 7,
      "outputs": [
        {
          "output_type": "stream",
          "text": [
            "Training RMSE: 1139.1176305025365\n",
            "Testing RMSE: 1092.830326891238\n",
            "R^2 for training set:  0.5615447211671323\n",
            "R^2 for testing set:  0.5671301359922962\n"
          ],
          "name": "stdout"
        }
      ]
    },
    {
      "cell_type": "code",
      "metadata": {
        "colab": {
          "base_uri": "https://localhost:8080/"
        },
        "id": "TWkvVeK-hPsk",
        "outputId": "60be976b-651b-43d1-bd45-69ebd4b791b6"
      },
      "source": [
        "reg.coef_"
      ],
      "execution_count": null,
      "outputs": [
        {
          "output_type": "execute_result",
          "data": {
            "text/plain": [
              "array([  -1.29262227, -422.84482258,   15.72101709,  -18.73756951,\n",
              "         62.61660111,  -28.29869384,   45.02508172,   27.77118848,\n",
              "       -106.63579022,   -1.87538169,   45.61273976,   14.34738549,\n",
              "         26.78362717,    5.38544247,  -12.22601532,  -27.05926919,\n",
              "        327.74977527,  -21.90762231,  -39.19608557,   41.76796162,\n",
              "        125.92133547,  298.69082258,  256.7598849 , -504.43347728,\n",
              "        885.99595126,  293.60045789,   63.5692505 ,  671.33475107,\n",
              "       -530.4118529 ,  612.34398326, -738.26531873,  655.86053096,\n",
              "       -292.34995185,  922.7047646 ,  256.7598849 ,  885.99595126])"
            ]
          },
          "metadata": {},
          "execution_count": 21
        }
      ]
    },
    {
      "cell_type": "code",
      "metadata": {
        "colab": {
          "base_uri": "https://localhost:8080/"
        },
        "id": "j3zHtUCCjqda",
        "outputId": "742e8ed0-3e26-446b-eae3-ffa47ac965f9"
      },
      "source": [
        "print(X.columns)"
      ],
      "execution_count": null,
      "outputs": [
        {
          "output_type": "stream",
          "text": [
            "Index(['Item_Weight', 'Item_Visibility', 'Item_MRP',\n",
            "       'Outlet_Establishment_Year', 'Item_Fat_Content_Regular',\n",
            "       'Item_Type_Breads', 'Item_Type_Breakfast', 'Item_Type_Canned',\n",
            "       'Item_Type_Dairy', 'Item_Type_Frozen Foods',\n",
            "       'Item_Type_Fruits and Vegetables', 'Item_Type_Hard Drinks',\n",
            "       'Item_Type_Health and Hygiene', 'Item_Type_Household', 'Item_Type_Meat',\n",
            "       'Item_Type_Others', 'Item_Type_Seafood', 'Item_Type_Snack Foods',\n",
            "       'Item_Type_Soft Drinks', 'Item_Type_Starchy Foods',\n",
            "       'Outlet_Identifier_OUT013', 'Outlet_Identifier_OUT017',\n",
            "       'Outlet_Identifier_OUT018', 'Outlet_Identifier_OUT019',\n",
            "       'Outlet_Identifier_OUT027', 'Outlet_Identifier_OUT035',\n",
            "       'Outlet_Identifier_OUT045', 'Outlet_Identifier_OUT046',\n",
            "       'Outlet_Identifier_OUT049', 'Outlet_Size_Medium', 'Outlet_Size_Small',\n",
            "       'Outlet_Location_Type_Tier 2', 'Outlet_Location_Type_Tier 3',\n",
            "       'Outlet_Type_Supermarket Type1', 'Outlet_Type_Supermarket Type2',\n",
            "       'Outlet_Type_Supermarket Type3'],\n",
            "      dtype='object')\n"
          ],
          "name": "stdout"
        }
      ]
    },
    {
      "cell_type": "code",
      "metadata": {
        "colab": {
          "base_uri": "https://localhost:8080/"
        },
        "id": "UujN5eLRirnJ",
        "outputId": "04a8d5ed-52e3-4b3b-f896-ba18c2bedb8c"
      },
      "source": [
        "reg.intercept_"
      ],
      "execution_count": null,
      "outputs": [
        {
          "output_type": "execute_result",
          "data": {
            "text/plain": [
              "36619.37299699216"
            ]
          },
          "metadata": {},
          "execution_count": 22
        }
      ]
    },
    {
      "cell_type": "code",
      "metadata": {
        "colab": {
          "base_uri": "https://localhost:8080/"
        },
        "id": "tpi7MxWYj4-h",
        "outputId": "d11ec047-4415-4634-9c14-b8995d8f876f"
      },
      "source": [
        "reg.coef_\n"
      ],
      "execution_count": null,
      "outputs": [
        {
          "output_type": "execute_result",
          "data": {
            "text/plain": [
              "array([  -1.29262227, -422.84482258,   15.72101709,  -18.73756951,\n",
              "         62.61660111,  -28.29869384,   45.02508172,   27.77118848,\n",
              "       -106.63579022,   -1.87538169,   45.61273976,   14.34738549,\n",
              "         26.78362717,    5.38544247,  -12.22601532,  -27.05926919,\n",
              "        327.74977527,  -21.90762231,  -39.19608557,   41.76796162,\n",
              "        125.92133547,  298.69082258,  256.7598849 , -504.43347728,\n",
              "        885.99595126,  293.60045789,   63.5692505 ,  671.33475107,\n",
              "       -530.4118529 ,  612.34398326, -738.26531873,  655.86053096,\n",
              "       -292.34995185,  922.7047646 ,  256.7598849 ,  885.99595126])"
            ]
          },
          "metadata": {},
          "execution_count": 35
        }
      ]
    },
    {
      "cell_type": "markdown",
      "metadata": {
        "id": "wHeYmVSpmMn2"
      },
      "source": [
        "       **Variables with coefficients > 0:**\n",
        "       'Item_MRP'\n",
        "       'Item_Fat_Content_Regular'\n",
        "       'Item_Type_Breakfast'\n",
        "       'Item_Type_Canned',\n",
        "       'Item_Type_Fruits and Vegetables'\n",
        "       'Item_Type_Hard Drinks',\n",
        "       'Item_Type_Health and Hygiene'\n",
        "       'Item_Type_Household', \n",
        "       'Item_Type_Seafood'\n",
        "       'Item_Type_Starchy Foods'\n",
        "       'Outlet_Identifier_OUT013', 'Outlet_Identifier_OUT017',\n",
        "       'Outlet_Identifier_OUT018', 'Outlet_Identifier_OUT035',\n",
        "       'Outlet_Identifier_OUT045', 'Outlet_Identifier_OUT046',\n",
        "       'Outlet_Size_Medium','Outlet_Location_Type_Tier 2', \n",
        "       'Outlet_Type_Supermarket Type1', 'Outlet_Type_Supermarket Type2',\n",
        "       'Outlet_Type_Supermarket Type3'"
      ]
    },
    {
      "cell_type": "markdown",
      "metadata": {
        "id": "SNhwzzBb6VZO"
      },
      "source": [
        "# Decision Tree"
      ]
    },
    {
      "cell_type": "code",
      "metadata": {
        "colab": {
          "base_uri": "https://localhost:8080/"
        },
        "id": "jbajyr7C4jwF",
        "outputId": "722cb267-bbfd-48b0-c26d-28f7ee05613f"
      },
      "source": [
        "from sklearn.tree import DecisionTreeRegressor\n",
        "from sklearn.ensemble import BaggingRegressor\n",
        "from sklearn.ensemble import RandomForestRegressor\n",
        "from sklearn.tree import DecisionTreeClassifier\n",
        "\n",
        "\n",
        "#Dec_Tree\n",
        "#assign train test split sets - model validation\n",
        "X_train, X_test, y_train, y_test = train_test_split(X, y, random_state=42)\n",
        "\n",
        "dec_tree = DecisionTreeRegressor(random_state = 42)\n",
        "#Fit model\n",
        "dec_tree.fit(X_train, y_train)\n",
        "\n",
        "train_preds = dec_tree.predict(X_train)\n",
        "test_preds = dec_tree.predict(X_test)\n",
        "# evaluate the model\n",
        "train_score = dec_tree.score(X_train, y_train)\n",
        "test_score = dec_tree.score(X_test, y_test)\n",
        "print(train_score)\n",
        "print(test_score)\n",
        "\n",
        "# What was the depth of our default tree?\n",
        "print(\"the depth of the decision tree model is: \", dec_tree.get_depth())\n",
        "# How many leaf nodes?\n",
        "print(\"number of leaf nodes: \", dec_tree.get_n_leaves())\n"
      ],
      "execution_count": 8,
      "outputs": [
        {
          "output_type": "stream",
          "text": [
            "1.0\n",
            "0.1495176480850593\n",
            "the depth of the decision tree model is:  45\n",
            "number of leaf nodes:  6239\n"
          ],
          "name": "stdout"
        }
      ]
    },
    {
      "cell_type": "code",
      "metadata": {
        "id": "QNvrmYck5e0f"
      },
      "source": [
        "# List of values to try for max_depth:\n",
        "max_depth_range = list(range(2, 36)) # will try every value between 2 and 36\n",
        "# List to store the score for each value of max_depth:\n",
        "r2 = []\n",
        "for depth in max_depth_range:\n",
        "    dec_tree = DecisionTreeRegressor(max_depth = depth, \n",
        "                             random_state = 42)\n",
        "    dec_tree.fit(X_train, y_train)\n",
        "    score = dec_tree.score(X_test, y_test)\n",
        "    r2.append(score)\n"
      ],
      "execution_count": 9,
      "outputs": []
    },
    {
      "cell_type": "code",
      "metadata": {
        "colab": {
          "base_uri": "https://localhost:8080/",
          "height": 281
        },
        "id": "cKbxdggY5gPm",
        "outputId": "fd44e6c0-e997-4a85-a311-bbdabe1d2fdb"
      },
      "source": [
        "import matplotlib.pyplot as plt\n",
        "plt.plot(max_depth_range, r2)\n",
        "plt.xlabel('max_depth')\n",
        "plt.ylabel('R2');\n"
      ],
      "execution_count": 11,
      "outputs": [
        {
          "output_type": "display_data",
          "data": {
            "image/png": "[encoded data removed]",
            "text/plain": [
              "<Figure size 432x288 with 1 Axes>"
            ]
          },
          "metadata": {
            "needs_background": "light"
          }
        }
      ]
    },
    {
      "cell_type": "code",
      "metadata": {
        "colab": {
          "base_uri": "https://localhost:8080/"
        },
        "id": "U5ybK_DU5_AW",
        "outputId": "5e5ec79b-f6a5-4e59-b8c2-83aa0bac1e76"
      },
      "source": [
        "# Let's run the model with our optimized value for max_depth\n",
        "dec_tree_5 = DecisionTreeRegressor(max_depth = 5, random_state = 42)\n",
        "dec_tree_5.fit(X_train, y_train)\n",
        "train_5_score = dec_tree_5.score(X_train, y_train)\n",
        "test_5_score = dec_tree_5.score(X_test, y_test)\n",
        "print(train_5_score)\n",
        "print(test_5_score)\n",
        "print(\"the depth of the decision tree model is: \", dec_tree_5.get_depth())\n",
        "print(\"number of leaf nodes: \", dec_tree_5.get_n_leaves())"
      ],
      "execution_count": 12,
      "outputs": [
        {
          "output_type": "stream",
          "text": [
            "0.6120592876176956\n",
            "0.5852963972683265\n",
            "the depth of the decision tree model is:  5\n",
            "number of leaf nodes:  32\n"
          ],
          "name": "stdout"
        }
      ]
    },
    {
      "cell_type": "markdown",
      "metadata": {
        "id": "_FwI4jx36aZq"
      },
      "source": [
        "# Bagged Regression"
      ]
    },
    {
      "cell_type": "code",
      "metadata": {
        "id": "AvxiZBva6dt0"
      },
      "source": [
        "#bagging regressor\n",
        "bagreg = BaggingRegressor(random_state = 42)\n"
      ],
      "execution_count": 14,
      "outputs": []
    },
    {
      "cell_type": "code",
      "metadata": {
        "colab": {
          "base_uri": "https://localhost:8080/"
        },
        "id": "MO3xWNw_7peC",
        "outputId": "2521fd78-26dd-424a-e72f-b84fac38252e"
      },
      "source": [
        "bagreg.fit(X_train, y_train)\n",
        "\n",
        "bagreg.predict(X_test)\n",
        "bagreg_train_score = bagreg.score(X_train, y_train)\n",
        "bagreg_test_score = bagreg.score(X_test, y_test)\n",
        "\n",
        "print(\"R^2 for training set: \", bagreg_train_score)\n",
        "print(\"R^2 for testing set: \", bagreg_test_score)"
      ],
      "execution_count": 15,
      "outputs": [
        {
          "output_type": "stream",
          "text": [
            "R^2 for training set:  0.9175873928070548\n",
            "R^2 for testing set:  0.5237995220131058\n"
          ],
          "name": "stdout"
        }
      ]
    },
    {
      "cell_type": "markdown",
      "metadata": {
        "id": "YF9MFn2i7kV-"
      },
      "source": [
        "# Random Forest"
      ]
    },
    {
      "cell_type": "code",
      "metadata": {
        "colab": {
          "base_uri": "https://localhost:8080/"
        },
        "id": "zQm1QgMA7k0L",
        "outputId": "8871cb80-e35f-44ab-e612-75ae87ec56aa"
      },
      "source": [
        "#random forest = rf\n",
        "rf = RandomForestRegressor(random_state = 42)\n",
        "rf.fit(X_train, y_train)\n",
        "\n",
        "rf.predict(X_test)\n",
        "rf_train_score = rf.score(X_train, y_train)\n",
        "rf_test_score = rf.score(X_test, y_test)\n",
        "print(\"R^2 for training set: \", rf_train_score)\n",
        "print(\"R^2 for testing set: \", rf_test_score)"
      ],
      "execution_count": 16,
      "outputs": [
        {
          "output_type": "stream",
          "text": [
            "R^2 for training set:  0.93780943072032\n",
            "R^2 for testing set:  0.5536440770498101\n"
          ],
          "name": "stdout"
        }
      ]
    },
    {
      "cell_type": "code",
      "metadata": {
        "colab": {
          "base_uri": "https://localhost:8080/"
        },
        "id": "P9RJpzl584Ex",
        "outputId": "90bc1cea-29dd-4fa8-e67a-95816587c071"
      },
      "source": [
        "rf_6 = RandomForestRegressor(max_depth = 6, random_state = 42)\n",
        "rf_6.fit(X_train, y_train)\n",
        "rf_6_train_score = rf_6.score(X_train, y_train)\n",
        "rf_6_test_score = rf_6.score(X_test, y_test)\n",
        "print(rf_6_train_score)\n",
        "print(rf_6_test_score)\n",
        "\n"
      ],
      "execution_count": 25,
      "outputs": [
        {
          "output_type": "stream",
          "text": [
            "0.6382091709058353\n",
            "0.6031584627027995\n"
          ],
          "name": "stdout"
        }
      ]
    },
    {
      "cell_type": "code",
      "metadata": {
        "id": "b8E6-LOS-DZx"
      },
      "source": [
        ""
      ],
      "execution_count": null,
      "outputs": []
    }
  ]
}